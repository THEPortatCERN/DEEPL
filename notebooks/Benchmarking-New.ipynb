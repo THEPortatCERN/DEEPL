{
 "cells": [
  {
   "cell_type": "code",
   "execution_count": 1,
   "metadata": {
    "scrolled": true
   },
   "outputs": [
    {
     "name": "stdout",
     "output_type": "stream",
     "text": [
      "[nltk_data] Downloading package wordnet to /home/bibek/nltk_data...\n",
      "[nltk_data]   Package wordnet is already up-to-date!\n",
      "[nltk_data] Downloading package averaged_perceptron_tagger to\n",
      "[nltk_data]     /home/bibek/nltk_data...\n",
      "[nltk_data]   Package averaged_perceptron_tagger is already up-to-\n",
      "[nltk_data]       date!\n"
     ]
    }
   ],
   "source": [
    "# Required imports\n",
    "import pandas as pd\n",
    "import numpy as np\n",
    "\n",
    "from sklearn.model_selection import train_test_split\n",
    "from sklearn.metrics import classification_report\n",
    "from sklearn.model_selection import StratifiedKFold\n",
    "from sklearn.model_selection import cross_validate\n",
    "from sklearn.model_selection import cross_val_score\n",
    "import sklearn.model_selection as ms\n",
    "\n",
    "\n",
    "import nltk\n",
    "from nltk.corpus import wordnet as wn\n",
    "from nltk.stem.wordnet import WordNetLemmatizer\n",
    "\n",
    "nltk.download('wordnet')\n",
    "nltk.download('averaged_perceptron_tagger')\n",
    "\n",
    "import matplotlib.pyplot as plt\n",
    "%matplotlib inline"
   ]
  },
  {
   "cell_type": "code",
   "execution_count": 2,
   "metadata": {},
   "outputs": [],
   "source": [
    "# Utility functions\n",
    "# PRE PROCESSING FUNCTIONS\n",
    "nltk_wordnet_tag_map = {\n",
    "    'NN': wn.NOUN,\n",
    "    'NNS': wn.NOUN,\n",
    "    'VBP': wn.VERB,\n",
    "    'VBG': wn.VERB,\n",
    "    'JJ': wn.ADJ,\n",
    "}\n",
    "\n",
    "from functools import reduce\n",
    "import string\n",
    "import re\n",
    "\n",
    "def compose(*functions):\n",
    "    def compose2(f1, f2):\n",
    "        \"\"\"Compose two functions\"\"\"\n",
    "        return lambda *args: f1(f2(*args))\n",
    "    return reduce(compose2, functions)\n",
    "\n",
    "def translate_to_english_txt(row):\n",
    "    text = row[\"excerpt\"]\n",
    "    try:\n",
    "        if langid.classify(text)[0] != 'en':\n",
    "            trans = googletrans.client.Translator()\n",
    "            return trans.translate(text, 'en').text\n",
    "        return text\n",
    "    except Exception as e:\n",
    "        return ''\n",
    "    \n",
    "def lemmatize(row, lemmatizer=WordNetLemmatizer()):\n",
    "    text = row\n",
    "    splitted = text if type(text) == list else str(text).split()\n",
    "    splitted = list(map(lambda x: str(x).lower(), splitted))\n",
    "    tagged = nltk.pos_tag(splitted)\n",
    "    lemmatized = []\n",
    "    for word, tag in tagged:\n",
    "        wnet_tag = nltk_wordnet_tag_map.get(tag)\n",
    "        if wnet_tag:\n",
    "            lemmatized.append(lemmatizer.lemmatize(word, wnet_tag))\n",
    "        else:\n",
    "            lemmatized.append(word)\n",
    "    return ' '.join(lemmatized)\n",
    "\n",
    "def rm_punc_not_nums(inp, col=None):\n",
    "    \"\"\"Remove punctuation unless it's a number for either a df (and col)\n",
    "    or single entry\n",
    "    \"\"\"\n",
    "    punc = string.punctuation\n",
    "    transtable = str.maketrans(\"\", \"\", punc)\n",
    "\n",
    "    def sing_rm(phr):\n",
    "        \"\"\"Remove for a single entity\"\"\"\n",
    "        return ' '.join([re.sub('\\W+', '', i).translate(transtable) if not (\n",
    "                    all(j.isdigit() or j in punc for j in i)\n",
    "                    and\n",
    "                    any(j.isdigit() for j in i)\n",
    "                ) else re.sub('\\W+', '', i)\n",
    "                for i in str(phr).split(' ')]\n",
    "        )\n",
    "    if col and isinstance(inp, pd.core.frame.DataFrame):\n",
    "        return inp.filter(like=col).applymap(lambda phr: sing_rm(phr))\n",
    "    elif isinstance(inp, str):\n",
    "        return sing_rm(inp)\n",
    "    else:\n",
    "        raise Exception('Not a vaild type')\n",
    "\n",
    "\n",
    "def rm_stop_words_txt(txt, swords=nltk.corpus.stopwords.words('english')):\n",
    "    \"\"\" Remove stop words from given text \"\"\"\n",
    "    return ' '.join(\n",
    "        [token for token in str(txt).split(' ')\n",
    "            if token.lower() not in swords]\n",
    "    )\n",
    "\n",
    "def preprocess(row):\n",
    "    inp = row[\"excerpt\"]\n",
    "    inp = lemmatize(inp)\n",
    "    func = compose(\n",
    "        rm_punc_not_nums,\n",
    "        rm_stop_words_txt,\n",
    "        ' '.join,\n",
    "        str.split,\n",
    "        str.lower,\n",
    "        str\n",
    "    )\n",
    "\n",
    "    return func(inp)\n",
    "\n",
    "def tokenize_text(text):\n",
    "    tokens = []\n",
    "    for sent in nltk.sent_tokenize(text):\n",
    "        for word in nltk.word_tokenize(sent):\n",
    "            if len(word) < 2:\n",
    "                continue\n",
    "            tokens.append(word.lower())\n",
    "    return tokens\n",
    "\n",
    "def model_cross_validate(features, labels, model):\n",
    "    print (\"Cross Validating: {0}\".format(model[\"name\"]))\n",
    "    print (\"features shape\", features.shape)\n",
    "    print (\"Labels shape\", labels.shape)\n",
    "    scoring = ['accuracy', 'precision_macro', 'recall_macro']\n",
    "    scores = cross_validate(model[\"model\"], features, labels, scoring=scoring, cv=ms.KFold(n_splits=10, shuffle = True, random_state=7), return_train_score=False)\n",
    "    k = list(range(10))\n",
    "    plt.scatter(k, scores['test_accuracy'])\n",
    "    plt.scatter(k, scores['test_precision_macro'])\n",
    "    plt.scatter(k, scores['test_recall_macro'])\n",
    "    plt.ylabel(\"Percentage\")\n",
    "    plt.xlabel(\"Iteration\")\n",
    "    plt.title(\"{0} 10 Folds Cross Validation\".format(model[\"name\"]))\n",
    "    plt.legend(['Testing Accuracy', 'Testing Precision', 'Testing Recall'], loc='upper left')"
   ]
  },
  {
   "cell_type": "code",
   "execution_count": 3,
   "metadata": {},
   "outputs": [],
   "source": [
    "# Create data frame\n",
    "\n",
    "def create_data_frame():\n",
    "    df = pd.read_csv(\"../_playground/sample_data/processed_sectors_subsectors.csv\", nrows=1000)\n",
    "    df.drop_duplicates([\"excerpt\"], inplace=True)\n",
    "    #df.drop([\"Unnamed: 0\", \"Unnamed: 0.1\"], axis=1, inplace=True)\n",
    "    df[\"preprocessed_excerpt\"] = df.apply(preprocess, axis=1)\n",
    "    return df\n",
    "\n",
    "#df = create_data_frame()"
   ]
  },
  {
   "cell_type": "code",
   "execution_count": 4,
   "metadata": {},
   "outputs": [],
   "source": [
    "# KNearest Neighbor classifier\n",
    "\n",
    "from sklearn.neighbors import KNeighborsClassifier\n",
    "from gensim.models.doc2vec import TaggedDocument\n",
    "from gensim.models import Doc2Vec\n",
    "\n",
    "\n",
    "def getVector(row, model):\n",
    "    return model.infer_vector(row[\"preprocessed_excerpt\"])\n",
    "\n",
    "def create_doc2vec_model(df):\n",
    "    train, test = train_test_split(df, test_size=0.1, random_state=42)\n",
    "    train_tagged = train.apply(\n",
    "        lambda r: TaggedDocument(words=tokenize_text(r['preprocessed_excerpt']), tags=[r.sector]), axis=1)\n",
    "    test_tagged = test.apply(\n",
    "        lambda r: TaggedDocument(words=tokenize_text(r['preprocessed_excerpt']), tags=[r.sector]), axis=1)\n",
    "    model_dbow = Doc2Vec(dm=0, vector_size=50, negative=5, hs=0, min_count=2, sample = 0)\n",
    "    model_dbow.build_vocab([x for x in train_tagged.values])\n",
    "    return model_dbow\n",
    "\n",
    "def get_vec_features(df):\n",
    "    d2v_model = create_doc2vec_model(df)\n",
    "    df[\"feature_vector\"] = df.apply(lambda x: getVector(x, d2v_model), axis=1)\n",
    "    # df.drop([\"subsector\"], inplace=True, axis=1)\n",
    "    dummies = pd.get_dummies(df[\"sector\"])\n",
    "    oh_df = pd.concat([dummies, df], axis=1)\n",
    "    return oh_df\n",
    "\n",
    "def get_features_labels_for_KNN(df, name=\"KNearestNeighbors\", **knn_params):\n",
    "    oh_df = get_vec_features(df)\n",
    "    features = np.array(list(oh_df[\"feature_vector\"]))\n",
    "    oh_df[\"sector\"] = oh_df[\"sector\"].astype(\"category\", copy=False)\n",
    "    labels = np.array(oh_df.iloc[:,:12])\n",
    "    knn = KNeighborsClassifier(n_neighbors=5, **knn_params)\n",
    "    return name, knn, features, labels\n"
   ]
  },
  {
   "cell_type": "code",
   "execution_count": 5,
   "metadata": {},
   "outputs": [],
   "source": [
    "# Logistic Regression Classifier\n",
    "from sklearn.metrics import classification_report, accuracy_score, f1_score\n",
    "from sklearn.linear_model import LogisticRegression\n",
    "    \n",
    "\n",
    "def get_features_labels_for_logistic_regression(df, name=\"LogisticRegression\", **logistic_regression_params):\n",
    "    lr = LogisticRegression(C=1, solver='lbfgs', multi_class='multinomial', **logistic_regression_params)\n",
    "    oh_df = get_vec_features(df)\n",
    "    features = np.array(list(oh_df[\"feature_vector\"]))\n",
    "    oh_df[\"sector\"] = oh_df[\"sector\"].astype(\"category\", copy=False)\n",
    "    labels = np.array(oh_df[\"sector\"])\n",
    "    return name, lr, features, labels"
   ]
  },
  {
   "cell_type": "code",
   "execution_count": 6,
   "metadata": {},
   "outputs": [],
   "source": [
    "# Random Forest Classifier\n",
    "from sklearn.ensemble import RandomForestClassifier\n",
    "from sklearn.feature_extraction.text import CountVectorizer\n",
    "from sklearn.feature_extraction.text import TfidfTransformer\n",
    "from sklearn.metrics import accuracy_score, f1_score, classification_report\n",
    "from sklearn.pipeline import Pipeline\n",
    "from sklearn.decomposition import TruncatedSVD, SparsePCA\n",
    "from sklearn.base import TransformerMixin\n",
    "\n",
    "class DenseTransformer(TransformerMixin):\n",
    "\n",
    "    def transform(self, X, y=None, **fit_params):\n",
    "        return X.todense()\n",
    "\n",
    "    def fit_transform(self, X, y=None, **fit_params):\n",
    "        self.fit(X, y, **fit_params)\n",
    "        return self.transform(X)\n",
    "\n",
    "    def fit(self, X, y=None, **fit_params):\n",
    "        return self\n",
    "\n",
    "def get_features_labels_for_random_forest(df, name=\"RandomForest\", **random_forest_params):\n",
    "    rf = RandomForestClassifier(**random_forest_params)\n",
    "    df[\"preprocessed_excerpt\"] = df.apply(preprocess, axis=1)\n",
    "    text_clf = Pipeline([\n",
    "        ('vect', CountVectorizer(ngram_range=(1, 2))),\n",
    "        ('tfidf', TfidfTransformer(use_idf=False)),\n",
    "\n",
    "    ])\n",
    "    features = text_clf.fit_transform(df[\"preprocessed_excerpt\"])\n",
    "    labels = df[\"sector\"]\n",
    "    return name, rf, features, labels\n",
    "\n",
    "def get_features_labels_for_random_forest_SVD(df, name=\"RandomForestSVD\", n_components=100, **random_forest_params): \n",
    "    rf = RandomForestClassifier(**random_forest_params)\n",
    "    df[\"preprocessed_excerpt\"] = df.apply(preprocess, axis=1)\n",
    "    text_clf = Pipeline([\n",
    "        ('vect', CountVectorizer(ngram_range=(1, 2))),\n",
    "        ('tfidf', TfidfTransformer(use_idf=False)),\n",
    "        ('pca', TruncatedSVD(n_components=n_components)),\n",
    "    ])\n",
    "    features = text_clf.fit_transform(df[\"preprocessed_excerpt\"])\n",
    "    labels = df[\"sector\"]\n",
    "    return \"{}{}\".format(name, n_components), rf, features, labels\n",
    "\n",
    "def get_features_labels_for_random_forest_PCA(df, name=\"RandomForestPCA\", n_components=100, **random_forest_params): \n",
    "    rf = RandomForestClassifier(**random_forest_params)\n",
    "    df[\"preprocessed_excerpt\"] = df.apply(preprocess, axis=1)\n",
    "    text_clf = Pipeline([\n",
    "        ('vect', CountVectorizer(ngram_range=(1, 2))),\n",
    "        ('tfidf', TfidfTransformer(use_idf=False)),\n",
    "        ('to_dense', DenseTransformer()),\n",
    "        ('pca', SparsePCA(n_components=n_components)),\n",
    "    ])\n",
    "    features = text_clf.fit_transform(df[\"preprocessed_excerpt\"])\n",
    "    labels = df[\"sector\"]\n",
    "    return \"{}{}\".format(name, n_components), rf, features, labels\n",
    "\n"
   ]
  },
  {
   "cell_type": "code",
   "execution_count": 7,
   "metadata": {},
   "outputs": [],
   "source": [
    "# NAIVE BAYES\n",
    "from sklearn.naive_bayes import MultinomialNB\n",
    "\n",
    "def get_features_labels_for_naive_bayes(df, name=\"NaiveBayesTF\", **naive_bayes_params):\n",
    "    feature_extractor = Pipeline([\n",
    "            ('vect', CountVectorizer(ngram_range=(1, 2))),\n",
    "            ('tfidf', TfidfTransformer(use_idf=False)),\n",
    "        ])\n",
    "    nb = MultinomialNB(alpha=0.01, fit_prior=False)\n",
    "    df[\"preprocesssed_excerpt\"] = df.apply(preprocess, axis=1)\n",
    "    features = feature_extractor.fit_transform(df[\"preprocessed_excerpt\"])\n",
    "    labels = df[\"sector\"]\n",
    "    return name, nb, features, labels\n",
    "\n",
    "def get_features_labels_for_naive_bayes_tfidf(df, name=\"NaiveBayesTFIDF\", **naive_bayes_params):\n",
    "    feature_extractor = Pipeline([\n",
    "            ('vect', CountVectorizer(ngram_range=(1, 2))),\n",
    "            ('tfidf', TfidfTransformer(use_idf=True)),\n",
    "        ])\n",
    "    nb = MultinomialNB(alpha=0.01, fit_prior=False)\n",
    "    df[\"preprocesssed_excerpt\"] = df.apply(preprocess, axis=1)\n",
    "    features = feature_extractor.fit_transform(df[\"preprocessed_excerpt\"])\n",
    "    labels = df[\"sector\"]\n",
    "    return name, nb, features, labels"
   ]
  },
  {
   "cell_type": "code",
   "execution_count": 8,
   "metadata": {
    "scrolled": false
   },
   "outputs": [
    {
     "name": "stderr",
     "output_type": "stream",
     "text": [
      "/home/bibek/venvs/deeplenv/lib/python3.7/site-packages/sklearn/decomposition/sparse_pca.py:170: DeprecationWarning: normalize_components=False is a backward-compatible setting that implements a non-standard definition of sparse PCA. This compatibility mode will be removed in 0.22.\n",
      "  DeprecationWarning)\n",
      "/home/bibek/venvs/deeplenv/lib/python3.7/site-packages/sklearn/decomposition/sparse_pca.py:170: DeprecationWarning: normalize_components=False is a backward-compatible setting that implements a non-standard definition of sparse PCA. This compatibility mode will be removed in 0.22.\n",
      "  DeprecationWarning)\n",
      "/home/bibek/venvs/deeplenv/lib/python3.7/site-packages/sklearn/decomposition/sparse_pca.py:170: DeprecationWarning: normalize_components=False is a backward-compatible setting that implements a non-standard definition of sparse PCA. This compatibility mode will be removed in 0.22.\n",
      "  DeprecationWarning)\n",
      "/home/bibek/venvs/deeplenv/lib/python3.7/site-packages/sklearn/decomposition/sparse_pca.py:170: DeprecationWarning: normalize_components=False is a backward-compatible setting that implements a non-standard definition of sparse PCA. This compatibility mode will be removed in 0.22.\n",
      "  DeprecationWarning)\n",
      "/home/bibek/venvs/deeplenv/lib/python3.7/site-packages/sklearn/decomposition/sparse_pca.py:170: DeprecationWarning: normalize_components=False is a backward-compatible setting that implements a non-standard definition of sparse PCA. This compatibility mode will be removed in 0.22.\n",
      "  DeprecationWarning)\n",
      "/home/bibek/venvs/deeplenv/lib/python3.7/site-packages/sklearn/decomposition/sparse_pca.py:170: DeprecationWarning: normalize_components=False is a backward-compatible setting that implements a non-standard definition of sparse PCA. This compatibility mode will be removed in 0.22.\n",
      "  DeprecationWarning)\n",
      "/home/bibek/venvs/deeplenv/lib/python3.7/site-packages/sklearn/decomposition/sparse_pca.py:170: DeprecationWarning: normalize_components=False is a backward-compatible setting that implements a non-standard definition of sparse PCA. This compatibility mode will be removed in 0.22.\n",
      "  DeprecationWarning)\n",
      "/home/bibek/venvs/deeplenv/lib/python3.7/site-packages/sklearn/decomposition/sparse_pca.py:170: DeprecationWarning: normalize_components=False is a backward-compatible setting that implements a non-standard definition of sparse PCA. This compatibility mode will be removed in 0.22.\n",
      "  DeprecationWarning)\n",
      "/home/bibek/venvs/deeplenv/lib/python3.7/site-packages/sklearn/decomposition/sparse_pca.py:170: DeprecationWarning: normalize_components=False is a backward-compatible setting that implements a non-standard definition of sparse PCA. This compatibility mode will be removed in 0.22.\n",
      "  DeprecationWarning)\n",
      "/home/bibek/venvs/deeplenv/lib/python3.7/site-packages/sklearn/decomposition/sparse_pca.py:170: DeprecationWarning: normalize_components=False is a backward-compatible setting that implements a non-standard definition of sparse PCA. This compatibility mode will be removed in 0.22.\n",
      "  DeprecationWarning)\n",
      "/home/bibek/venvs/deeplenv/lib/python3.7/site-packages/sklearn/decomposition/sparse_pca.py:170: DeprecationWarning: normalize_components=False is a backward-compatible setting that implements a non-standard definition of sparse PCA. This compatibility mode will be removed in 0.22.\n",
      "  DeprecationWarning)\n"
     ]
    },
    {
     "name": "stdout",
     "output_type": "stream",
     "text": [
      "RandomForest-Estimators300: 0.515354 (0.094869)\n",
      "RandomForest-Estimators100: 0.513283 (0.095573)\n",
      "RandomForest-Estimators50: 0.495091 (0.092022)\n",
      "LogisticRegression: 0.267384 (0.096326)\n",
      "KNearestNeighbors: 0.027212 (0.016258)\n",
      "NaiveBayesTF: 0.316535 (0.062492)\n",
      "NaiveBayesTFIDF: 0.222838 (0.042724)\n"
     ]
    },
    {
     "name": "stderr",
     "output_type": "stream",
     "text": [
      "/home/bibek/venvs/deeplenv/lib/python3.7/site-packages/sklearn/ensemble/forest.py:248: FutureWarning: The default value of n_estimators will change from 10 in version 0.20 to 100 in 0.22.\n",
      "  \"10 in version 0.20 to 100 in 0.22.\", FutureWarning)\n",
      "/home/bibek/venvs/deeplenv/lib/python3.7/site-packages/sklearn/ensemble/forest.py:248: FutureWarning: The default value of n_estimators will change from 10 in version 0.20 to 100 in 0.22.\n",
      "  \"10 in version 0.20 to 100 in 0.22.\", FutureWarning)\n",
      "/home/bibek/venvs/deeplenv/lib/python3.7/site-packages/sklearn/ensemble/forest.py:248: FutureWarning: The default value of n_estimators will change from 10 in version 0.20 to 100 in 0.22.\n",
      "  \"10 in version 0.20 to 100 in 0.22.\", FutureWarning)\n",
      "/home/bibek/venvs/deeplenv/lib/python3.7/site-packages/sklearn/ensemble/forest.py:248: FutureWarning: The default value of n_estimators will change from 10 in version 0.20 to 100 in 0.22.\n",
      "  \"10 in version 0.20 to 100 in 0.22.\", FutureWarning)\n",
      "/home/bibek/venvs/deeplenv/lib/python3.7/site-packages/sklearn/ensemble/forest.py:248: FutureWarning: The default value of n_estimators will change from 10 in version 0.20 to 100 in 0.22.\n",
      "  \"10 in version 0.20 to 100 in 0.22.\", FutureWarning)\n",
      "/home/bibek/venvs/deeplenv/lib/python3.7/site-packages/sklearn/ensemble/forest.py:248: FutureWarning: The default value of n_estimators will change from 10 in version 0.20 to 100 in 0.22.\n",
      "  \"10 in version 0.20 to 100 in 0.22.\", FutureWarning)\n",
      "/home/bibek/venvs/deeplenv/lib/python3.7/site-packages/sklearn/ensemble/forest.py:248: FutureWarning: The default value of n_estimators will change from 10 in version 0.20 to 100 in 0.22.\n",
      "  \"10 in version 0.20 to 100 in 0.22.\", FutureWarning)\n",
      "/home/bibek/venvs/deeplenv/lib/python3.7/site-packages/sklearn/ensemble/forest.py:248: FutureWarning: The default value of n_estimators will change from 10 in version 0.20 to 100 in 0.22.\n",
      "  \"10 in version 0.20 to 100 in 0.22.\", FutureWarning)\n",
      "/home/bibek/venvs/deeplenv/lib/python3.7/site-packages/sklearn/ensemble/forest.py:248: FutureWarning: The default value of n_estimators will change from 10 in version 0.20 to 100 in 0.22.\n",
      "  \"10 in version 0.20 to 100 in 0.22.\", FutureWarning)\n",
      "/home/bibek/venvs/deeplenv/lib/python3.7/site-packages/sklearn/ensemble/forest.py:248: FutureWarning: The default value of n_estimators will change from 10 in version 0.20 to 100 in 0.22.\n",
      "  \"10 in version 0.20 to 100 in 0.22.\", FutureWarning)\n",
      "/home/bibek/venvs/deeplenv/lib/python3.7/site-packages/sklearn/ensemble/forest.py:248: FutureWarning: The default value of n_estimators will change from 10 in version 0.20 to 100 in 0.22.\n",
      "  \"10 in version 0.20 to 100 in 0.22.\", FutureWarning)\n",
      "/home/bibek/venvs/deeplenv/lib/python3.7/site-packages/sklearn/ensemble/forest.py:248: FutureWarning: The default value of n_estimators will change from 10 in version 0.20 to 100 in 0.22.\n",
      "  \"10 in version 0.20 to 100 in 0.22.\", FutureWarning)\n"
     ]
    },
    {
     "name": "stdout",
     "output_type": "stream",
     "text": [
      "RandomForestPCA100: 0.333788 (0.086633)\n"
     ]
    },
    {
     "name": "stderr",
     "output_type": "stream",
     "text": [
      "/home/bibek/venvs/deeplenv/lib/python3.7/site-packages/sklearn/ensemble/forest.py:248: FutureWarning: The default value of n_estimators will change from 10 in version 0.20 to 100 in 0.22.\n",
      "  \"10 in version 0.20 to 100 in 0.22.\", FutureWarning)\n",
      "/home/bibek/venvs/deeplenv/lib/python3.7/site-packages/sklearn/ensemble/forest.py:248: FutureWarning: The default value of n_estimators will change from 10 in version 0.20 to 100 in 0.22.\n",
      "  \"10 in version 0.20 to 100 in 0.22.\", FutureWarning)\n",
      "/home/bibek/venvs/deeplenv/lib/python3.7/site-packages/sklearn/ensemble/forest.py:248: FutureWarning: The default value of n_estimators will change from 10 in version 0.20 to 100 in 0.22.\n",
      "  \"10 in version 0.20 to 100 in 0.22.\", FutureWarning)\n",
      "/home/bibek/venvs/deeplenv/lib/python3.7/site-packages/sklearn/ensemble/forest.py:248: FutureWarning: The default value of n_estimators will change from 10 in version 0.20 to 100 in 0.22.\n",
      "  \"10 in version 0.20 to 100 in 0.22.\", FutureWarning)\n",
      "/home/bibek/venvs/deeplenv/lib/python3.7/site-packages/sklearn/ensemble/forest.py:248: FutureWarning: The default value of n_estimators will change from 10 in version 0.20 to 100 in 0.22.\n",
      "  \"10 in version 0.20 to 100 in 0.22.\", FutureWarning)\n",
      "/home/bibek/venvs/deeplenv/lib/python3.7/site-packages/sklearn/ensemble/forest.py:248: FutureWarning: The default value of n_estimators will change from 10 in version 0.20 to 100 in 0.22.\n",
      "  \"10 in version 0.20 to 100 in 0.22.\", FutureWarning)\n",
      "/home/bibek/venvs/deeplenv/lib/python3.7/site-packages/sklearn/ensemble/forest.py:248: FutureWarning: The default value of n_estimators will change from 10 in version 0.20 to 100 in 0.22.\n",
      "  \"10 in version 0.20 to 100 in 0.22.\", FutureWarning)\n",
      "/home/bibek/venvs/deeplenv/lib/python3.7/site-packages/sklearn/ensemble/forest.py:248: FutureWarning: The default value of n_estimators will change from 10 in version 0.20 to 100 in 0.22.\n",
      "  \"10 in version 0.20 to 100 in 0.22.\", FutureWarning)\n"
     ]
    },
    {
     "name": "stdout",
     "output_type": "stream",
     "text": [
      "RandomForestPCA50: 0.345879 (0.079047)\n"
     ]
    },
    {
     "name": "stderr",
     "output_type": "stream",
     "text": [
      "/home/bibek/venvs/deeplenv/lib/python3.7/site-packages/sklearn/ensemble/forest.py:248: FutureWarning: The default value of n_estimators will change from 10 in version 0.20 to 100 in 0.22.\n",
      "  \"10 in version 0.20 to 100 in 0.22.\", FutureWarning)\n",
      "/home/bibek/venvs/deeplenv/lib/python3.7/site-packages/sklearn/ensemble/forest.py:248: FutureWarning: The default value of n_estimators will change from 10 in version 0.20 to 100 in 0.22.\n",
      "  \"10 in version 0.20 to 100 in 0.22.\", FutureWarning)\n",
      "/home/bibek/venvs/deeplenv/lib/python3.7/site-packages/sklearn/ensemble/forest.py:248: FutureWarning: The default value of n_estimators will change from 10 in version 0.20 to 100 in 0.22.\n",
      "  \"10 in version 0.20 to 100 in 0.22.\", FutureWarning)\n",
      "/home/bibek/venvs/deeplenv/lib/python3.7/site-packages/sklearn/ensemble/forest.py:248: FutureWarning: The default value of n_estimators will change from 10 in version 0.20 to 100 in 0.22.\n",
      "  \"10 in version 0.20 to 100 in 0.22.\", FutureWarning)\n",
      "/home/bibek/venvs/deeplenv/lib/python3.7/site-packages/sklearn/ensemble/forest.py:248: FutureWarning: The default value of n_estimators will change from 10 in version 0.20 to 100 in 0.22.\n",
      "  \"10 in version 0.20 to 100 in 0.22.\", FutureWarning)\n",
      "/home/bibek/venvs/deeplenv/lib/python3.7/site-packages/sklearn/ensemble/forest.py:248: FutureWarning: The default value of n_estimators will change from 10 in version 0.20 to 100 in 0.22.\n",
      "  \"10 in version 0.20 to 100 in 0.22.\", FutureWarning)\n",
      "/home/bibek/venvs/deeplenv/lib/python3.7/site-packages/sklearn/ensemble/forest.py:248: FutureWarning: The default value of n_estimators will change from 10 in version 0.20 to 100 in 0.22.\n",
      "  \"10 in version 0.20 to 100 in 0.22.\", FutureWarning)\n",
      "/home/bibek/venvs/deeplenv/lib/python3.7/site-packages/sklearn/ensemble/forest.py:248: FutureWarning: The default value of n_estimators will change from 10 in version 0.20 to 100 in 0.22.\n",
      "  \"10 in version 0.20 to 100 in 0.22.\", FutureWarning)\n",
      "/home/bibek/venvs/deeplenv/lib/python3.7/site-packages/sklearn/ensemble/forest.py:248: FutureWarning: The default value of n_estimators will change from 10 in version 0.20 to 100 in 0.22.\n",
      "  \"10 in version 0.20 to 100 in 0.22.\", FutureWarning)\n",
      "/home/bibek/venvs/deeplenv/lib/python3.7/site-packages/sklearn/ensemble/forest.py:248: FutureWarning: The default value of n_estimators will change from 10 in version 0.20 to 100 in 0.22.\n",
      "  \"10 in version 0.20 to 100 in 0.22.\", FutureWarning)\n",
      "/home/bibek/venvs/deeplenv/lib/python3.7/site-packages/sklearn/ensemble/forest.py:248: FutureWarning: The default value of n_estimators will change from 10 in version 0.20 to 100 in 0.22.\n",
      "  \"10 in version 0.20 to 100 in 0.22.\", FutureWarning)\n",
      "/home/bibek/venvs/deeplenv/lib/python3.7/site-packages/sklearn/ensemble/forest.py:248: FutureWarning: The default value of n_estimators will change from 10 in version 0.20 to 100 in 0.22.\n",
      "  \"10 in version 0.20 to 100 in 0.22.\", FutureWarning)\n"
     ]
    },
    {
     "name": "stdout",
     "output_type": "stream",
     "text": [
      "RandomForestPCA200: 0.343828 (0.065544)\n"
     ]
    },
    {
     "name": "stderr",
     "output_type": "stream",
     "text": [
      "/home/bibek/venvs/deeplenv/lib/python3.7/site-packages/sklearn/ensemble/forest.py:248: FutureWarning: The default value of n_estimators will change from 10 in version 0.20 to 100 in 0.22.\n",
      "  \"10 in version 0.20 to 100 in 0.22.\", FutureWarning)\n",
      "/home/bibek/venvs/deeplenv/lib/python3.7/site-packages/sklearn/ensemble/forest.py:248: FutureWarning: The default value of n_estimators will change from 10 in version 0.20 to 100 in 0.22.\n",
      "  \"10 in version 0.20 to 100 in 0.22.\", FutureWarning)\n",
      "/home/bibek/venvs/deeplenv/lib/python3.7/site-packages/sklearn/ensemble/forest.py:248: FutureWarning: The default value of n_estimators will change from 10 in version 0.20 to 100 in 0.22.\n",
      "  \"10 in version 0.20 to 100 in 0.22.\", FutureWarning)\n",
      "/home/bibek/venvs/deeplenv/lib/python3.7/site-packages/sklearn/ensemble/forest.py:248: FutureWarning: The default value of n_estimators will change from 10 in version 0.20 to 100 in 0.22.\n",
      "  \"10 in version 0.20 to 100 in 0.22.\", FutureWarning)\n",
      "/home/bibek/venvs/deeplenv/lib/python3.7/site-packages/sklearn/ensemble/forest.py:248: FutureWarning: The default value of n_estimators will change from 10 in version 0.20 to 100 in 0.22.\n",
      "  \"10 in version 0.20 to 100 in 0.22.\", FutureWarning)\n",
      "/home/bibek/venvs/deeplenv/lib/python3.7/site-packages/sklearn/ensemble/forest.py:248: FutureWarning: The default value of n_estimators will change from 10 in version 0.20 to 100 in 0.22.\n",
      "  \"10 in version 0.20 to 100 in 0.22.\", FutureWarning)\n",
      "/home/bibek/venvs/deeplenv/lib/python3.7/site-packages/sklearn/ensemble/forest.py:248: FutureWarning: The default value of n_estimators will change from 10 in version 0.20 to 100 in 0.22.\n",
      "  \"10 in version 0.20 to 100 in 0.22.\", FutureWarning)\n",
      "/home/bibek/venvs/deeplenv/lib/python3.7/site-packages/sklearn/ensemble/forest.py:248: FutureWarning: The default value of n_estimators will change from 10 in version 0.20 to 100 in 0.22.\n",
      "  \"10 in version 0.20 to 100 in 0.22.\", FutureWarning)\n",
      "/home/bibek/venvs/deeplenv/lib/python3.7/site-packages/sklearn/ensemble/forest.py:248: FutureWarning: The default value of n_estimators will change from 10 in version 0.20 to 100 in 0.22.\n",
      "  \"10 in version 0.20 to 100 in 0.22.\", FutureWarning)\n"
     ]
    },
    {
     "name": "stdout",
     "output_type": "stream",
     "text": [
      "RandomForestPCA300: 0.328758 (0.077626)\n"
     ]
    },
    {
     "name": "stderr",
     "output_type": "stream",
     "text": [
      "/home/bibek/venvs/deeplenv/lib/python3.7/site-packages/sklearn/ensemble/forest.py:248: FutureWarning: The default value of n_estimators will change from 10 in version 0.20 to 100 in 0.22.\n",
      "  \"10 in version 0.20 to 100 in 0.22.\", FutureWarning)\n",
      "/home/bibek/venvs/deeplenv/lib/python3.7/site-packages/sklearn/ensemble/forest.py:248: FutureWarning: The default value of n_estimators will change from 10 in version 0.20 to 100 in 0.22.\n",
      "  \"10 in version 0.20 to 100 in 0.22.\", FutureWarning)\n",
      "/home/bibek/venvs/deeplenv/lib/python3.7/site-packages/sklearn/ensemble/forest.py:248: FutureWarning: The default value of n_estimators will change from 10 in version 0.20 to 100 in 0.22.\n",
      "  \"10 in version 0.20 to 100 in 0.22.\", FutureWarning)\n",
      "/home/bibek/venvs/deeplenv/lib/python3.7/site-packages/sklearn/ensemble/forest.py:248: FutureWarning: The default value of n_estimators will change from 10 in version 0.20 to 100 in 0.22.\n",
      "  \"10 in version 0.20 to 100 in 0.22.\", FutureWarning)\n",
      "/home/bibek/venvs/deeplenv/lib/python3.7/site-packages/sklearn/ensemble/forest.py:248: FutureWarning: The default value of n_estimators will change from 10 in version 0.20 to 100 in 0.22.\n",
      "  \"10 in version 0.20 to 100 in 0.22.\", FutureWarning)\n",
      "/home/bibek/venvs/deeplenv/lib/python3.7/site-packages/sklearn/ensemble/forest.py:248: FutureWarning: The default value of n_estimators will change from 10 in version 0.20 to 100 in 0.22.\n",
      "  \"10 in version 0.20 to 100 in 0.22.\", FutureWarning)\n",
      "/home/bibek/venvs/deeplenv/lib/python3.7/site-packages/sklearn/ensemble/forest.py:248: FutureWarning: The default value of n_estimators will change from 10 in version 0.20 to 100 in 0.22.\n",
      "  \"10 in version 0.20 to 100 in 0.22.\", FutureWarning)\n",
      "/home/bibek/venvs/deeplenv/lib/python3.7/site-packages/sklearn/ensemble/forest.py:248: FutureWarning: The default value of n_estimators will change from 10 in version 0.20 to 100 in 0.22.\n",
      "  \"10 in version 0.20 to 100 in 0.22.\", FutureWarning)\n",
      "/home/bibek/venvs/deeplenv/lib/python3.7/site-packages/sklearn/ensemble/forest.py:248: FutureWarning: The default value of n_estimators will change from 10 in version 0.20 to 100 in 0.22.\n",
      "  \"10 in version 0.20 to 100 in 0.22.\", FutureWarning)\n"
     ]
    },
    {
     "name": "stdout",
     "output_type": "stream",
     "text": [
      "RandomForestPCA400: 0.334788 (0.070244)\n"
     ]
    },
    {
     "name": "stderr",
     "output_type": "stream",
     "text": [
      "/home/bibek/venvs/deeplenv/lib/python3.7/site-packages/sklearn/ensemble/forest.py:248: FutureWarning: The default value of n_estimators will change from 10 in version 0.20 to 100 in 0.22.\n",
      "  \"10 in version 0.20 to 100 in 0.22.\", FutureWarning)\n",
      "/home/bibek/venvs/deeplenv/lib/python3.7/site-packages/sklearn/ensemble/forest.py:248: FutureWarning: The default value of n_estimators will change from 10 in version 0.20 to 100 in 0.22.\n",
      "  \"10 in version 0.20 to 100 in 0.22.\", FutureWarning)\n",
      "/home/bibek/venvs/deeplenv/lib/python3.7/site-packages/sklearn/ensemble/forest.py:248: FutureWarning: The default value of n_estimators will change from 10 in version 0.20 to 100 in 0.22.\n",
      "  \"10 in version 0.20 to 100 in 0.22.\", FutureWarning)\n",
      "/home/bibek/venvs/deeplenv/lib/python3.7/site-packages/sklearn/ensemble/forest.py:248: FutureWarning: The default value of n_estimators will change from 10 in version 0.20 to 100 in 0.22.\n",
      "  \"10 in version 0.20 to 100 in 0.22.\", FutureWarning)\n",
      "/home/bibek/venvs/deeplenv/lib/python3.7/site-packages/sklearn/ensemble/forest.py:248: FutureWarning: The default value of n_estimators will change from 10 in version 0.20 to 100 in 0.22.\n",
      "  \"10 in version 0.20 to 100 in 0.22.\", FutureWarning)\n",
      "/home/bibek/venvs/deeplenv/lib/python3.7/site-packages/sklearn/ensemble/forest.py:248: FutureWarning: The default value of n_estimators will change from 10 in version 0.20 to 100 in 0.22.\n",
      "  \"10 in version 0.20 to 100 in 0.22.\", FutureWarning)\n",
      "/home/bibek/venvs/deeplenv/lib/python3.7/site-packages/sklearn/ensemble/forest.py:248: FutureWarning: The default value of n_estimators will change from 10 in version 0.20 to 100 in 0.22.\n",
      "  \"10 in version 0.20 to 100 in 0.22.\", FutureWarning)\n",
      "/home/bibek/venvs/deeplenv/lib/python3.7/site-packages/sklearn/ensemble/forest.py:248: FutureWarning: The default value of n_estimators will change from 10 in version 0.20 to 100 in 0.22.\n",
      "  \"10 in version 0.20 to 100 in 0.22.\", FutureWarning)\n",
      "/home/bibek/venvs/deeplenv/lib/python3.7/site-packages/sklearn/ensemble/forest.py:248: FutureWarning: The default value of n_estimators will change from 10 in version 0.20 to 100 in 0.22.\n",
      "  \"10 in version 0.20 to 100 in 0.22.\", FutureWarning)\n",
      "/home/bibek/venvs/deeplenv/lib/python3.7/site-packages/sklearn/ensemble/forest.py:248: FutureWarning: The default value of n_estimators will change from 10 in version 0.20 to 100 in 0.22.\n",
      "  \"10 in version 0.20 to 100 in 0.22.\", FutureWarning)\n"
     ]
    },
    {
     "name": "stdout",
     "output_type": "stream",
     "text": [
      "RandomForestPCA500: 0.341848 (0.070909)\n"
     ]
    },
    {
     "name": "stderr",
     "output_type": "stream",
     "text": [
      "/home/bibek/venvs/deeplenv/lib/python3.7/site-packages/sklearn/ensemble/forest.py:248: FutureWarning: The default value of n_estimators will change from 10 in version 0.20 to 100 in 0.22.\n",
      "  \"10 in version 0.20 to 100 in 0.22.\", FutureWarning)\n",
      "/home/bibek/venvs/deeplenv/lib/python3.7/site-packages/sklearn/ensemble/forest.py:248: FutureWarning: The default value of n_estimators will change from 10 in version 0.20 to 100 in 0.22.\n",
      "  \"10 in version 0.20 to 100 in 0.22.\", FutureWarning)\n",
      "/home/bibek/venvs/deeplenv/lib/python3.7/site-packages/sklearn/ensemble/forest.py:248: FutureWarning: The default value of n_estimators will change from 10 in version 0.20 to 100 in 0.22.\n",
      "  \"10 in version 0.20 to 100 in 0.22.\", FutureWarning)\n",
      "/home/bibek/venvs/deeplenv/lib/python3.7/site-packages/sklearn/ensemble/forest.py:248: FutureWarning: The default value of n_estimators will change from 10 in version 0.20 to 100 in 0.22.\n",
      "  \"10 in version 0.20 to 100 in 0.22.\", FutureWarning)\n",
      "/home/bibek/venvs/deeplenv/lib/python3.7/site-packages/sklearn/ensemble/forest.py:248: FutureWarning: The default value of n_estimators will change from 10 in version 0.20 to 100 in 0.22.\n",
      "  \"10 in version 0.20 to 100 in 0.22.\", FutureWarning)\n",
      "/home/bibek/venvs/deeplenv/lib/python3.7/site-packages/sklearn/ensemble/forest.py:248: FutureWarning: The default value of n_estimators will change from 10 in version 0.20 to 100 in 0.22.\n",
      "  \"10 in version 0.20 to 100 in 0.22.\", FutureWarning)\n",
      "/home/bibek/venvs/deeplenv/lib/python3.7/site-packages/sklearn/ensemble/forest.py:248: FutureWarning: The default value of n_estimators will change from 10 in version 0.20 to 100 in 0.22.\n",
      "  \"10 in version 0.20 to 100 in 0.22.\", FutureWarning)\n",
      "/home/bibek/venvs/deeplenv/lib/python3.7/site-packages/sklearn/ensemble/forest.py:248: FutureWarning: The default value of n_estimators will change from 10 in version 0.20 to 100 in 0.22.\n",
      "  \"10 in version 0.20 to 100 in 0.22.\", FutureWarning)\n",
      "/home/bibek/venvs/deeplenv/lib/python3.7/site-packages/sklearn/ensemble/forest.py:248: FutureWarning: The default value of n_estimators will change from 10 in version 0.20 to 100 in 0.22.\n",
      "  \"10 in version 0.20 to 100 in 0.22.\", FutureWarning)\n",
      "/home/bibek/venvs/deeplenv/lib/python3.7/site-packages/sklearn/ensemble/forest.py:248: FutureWarning: The default value of n_estimators will change from 10 in version 0.20 to 100 in 0.22.\n",
      "  \"10 in version 0.20 to 100 in 0.22.\", FutureWarning)\n"
     ]
    },
    {
     "name": "stdout",
     "output_type": "stream",
     "text": [
      "RandomForestPCA600: 0.344848 (0.065369)\n"
     ]
    },
    {
     "name": "stderr",
     "output_type": "stream",
     "text": [
      "/home/bibek/venvs/deeplenv/lib/python3.7/site-packages/sklearn/ensemble/forest.py:248: FutureWarning: The default value of n_estimators will change from 10 in version 0.20 to 100 in 0.22.\n",
      "  \"10 in version 0.20 to 100 in 0.22.\", FutureWarning)\n",
      "/home/bibek/venvs/deeplenv/lib/python3.7/site-packages/sklearn/ensemble/forest.py:248: FutureWarning: The default value of n_estimators will change from 10 in version 0.20 to 100 in 0.22.\n",
      "  \"10 in version 0.20 to 100 in 0.22.\", FutureWarning)\n",
      "/home/bibek/venvs/deeplenv/lib/python3.7/site-packages/sklearn/ensemble/forest.py:248: FutureWarning: The default value of n_estimators will change from 10 in version 0.20 to 100 in 0.22.\n",
      "  \"10 in version 0.20 to 100 in 0.22.\", FutureWarning)\n",
      "/home/bibek/venvs/deeplenv/lib/python3.7/site-packages/sklearn/ensemble/forest.py:248: FutureWarning: The default value of n_estimators will change from 10 in version 0.20 to 100 in 0.22.\n",
      "  \"10 in version 0.20 to 100 in 0.22.\", FutureWarning)\n",
      "/home/bibek/venvs/deeplenv/lib/python3.7/site-packages/sklearn/ensemble/forest.py:248: FutureWarning: The default value of n_estimators will change from 10 in version 0.20 to 100 in 0.22.\n",
      "  \"10 in version 0.20 to 100 in 0.22.\", FutureWarning)\n",
      "/home/bibek/venvs/deeplenv/lib/python3.7/site-packages/sklearn/ensemble/forest.py:248: FutureWarning: The default value of n_estimators will change from 10 in version 0.20 to 100 in 0.22.\n",
      "  \"10 in version 0.20 to 100 in 0.22.\", FutureWarning)\n",
      "/home/bibek/venvs/deeplenv/lib/python3.7/site-packages/sklearn/ensemble/forest.py:248: FutureWarning: The default value of n_estimators will change from 10 in version 0.20 to 100 in 0.22.\n",
      "  \"10 in version 0.20 to 100 in 0.22.\", FutureWarning)\n",
      "/home/bibek/venvs/deeplenv/lib/python3.7/site-packages/sklearn/ensemble/forest.py:248: FutureWarning: The default value of n_estimators will change from 10 in version 0.20 to 100 in 0.22.\n",
      "  \"10 in version 0.20 to 100 in 0.22.\", FutureWarning)\n",
      "/home/bibek/venvs/deeplenv/lib/python3.7/site-packages/sklearn/ensemble/forest.py:248: FutureWarning: The default value of n_estimators will change from 10 in version 0.20 to 100 in 0.22.\n",
      "  \"10 in version 0.20 to 100 in 0.22.\", FutureWarning)\n",
      "/home/bibek/venvs/deeplenv/lib/python3.7/site-packages/sklearn/ensemble/forest.py:248: FutureWarning: The default value of n_estimators will change from 10 in version 0.20 to 100 in 0.22.\n",
      "  \"10 in version 0.20 to 100 in 0.22.\", FutureWarning)\n"
     ]
    },
    {
     "name": "stdout",
     "output_type": "stream",
     "text": [
      "RandomForestPCA700: 0.339818 (0.076337)\n"
     ]
    },
    {
     "name": "stderr",
     "output_type": "stream",
     "text": [
      "/home/bibek/venvs/deeplenv/lib/python3.7/site-packages/sklearn/ensemble/forest.py:248: FutureWarning: The default value of n_estimators will change from 10 in version 0.20 to 100 in 0.22.\n",
      "  \"10 in version 0.20 to 100 in 0.22.\", FutureWarning)\n",
      "/home/bibek/venvs/deeplenv/lib/python3.7/site-packages/sklearn/ensemble/forest.py:248: FutureWarning: The default value of n_estimators will change from 10 in version 0.20 to 100 in 0.22.\n",
      "  \"10 in version 0.20 to 100 in 0.22.\", FutureWarning)\n",
      "/home/bibek/venvs/deeplenv/lib/python3.7/site-packages/sklearn/ensemble/forest.py:248: FutureWarning: The default value of n_estimators will change from 10 in version 0.20 to 100 in 0.22.\n",
      "  \"10 in version 0.20 to 100 in 0.22.\", FutureWarning)\n",
      "/home/bibek/venvs/deeplenv/lib/python3.7/site-packages/sklearn/ensemble/forest.py:248: FutureWarning: The default value of n_estimators will change from 10 in version 0.20 to 100 in 0.22.\n",
      "  \"10 in version 0.20 to 100 in 0.22.\", FutureWarning)\n",
      "/home/bibek/venvs/deeplenv/lib/python3.7/site-packages/sklearn/ensemble/forest.py:248: FutureWarning: The default value of n_estimators will change from 10 in version 0.20 to 100 in 0.22.\n",
      "  \"10 in version 0.20 to 100 in 0.22.\", FutureWarning)\n",
      "/home/bibek/venvs/deeplenv/lib/python3.7/site-packages/sklearn/ensemble/forest.py:248: FutureWarning: The default value of n_estimators will change from 10 in version 0.20 to 100 in 0.22.\n",
      "  \"10 in version 0.20 to 100 in 0.22.\", FutureWarning)\n",
      "/home/bibek/venvs/deeplenv/lib/python3.7/site-packages/sklearn/ensemble/forest.py:248: FutureWarning: The default value of n_estimators will change from 10 in version 0.20 to 100 in 0.22.\n",
      "  \"10 in version 0.20 to 100 in 0.22.\", FutureWarning)\n",
      "/home/bibek/venvs/deeplenv/lib/python3.7/site-packages/sklearn/ensemble/forest.py:248: FutureWarning: The default value of n_estimators will change from 10 in version 0.20 to 100 in 0.22.\n",
      "  \"10 in version 0.20 to 100 in 0.22.\", FutureWarning)\n",
      "/home/bibek/venvs/deeplenv/lib/python3.7/site-packages/sklearn/ensemble/forest.py:248: FutureWarning: The default value of n_estimators will change from 10 in version 0.20 to 100 in 0.22.\n",
      "  \"10 in version 0.20 to 100 in 0.22.\", FutureWarning)\n",
      "/home/bibek/venvs/deeplenv/lib/python3.7/site-packages/sklearn/ensemble/forest.py:248: FutureWarning: The default value of n_estimators will change from 10 in version 0.20 to 100 in 0.22.\n",
      "  \"10 in version 0.20 to 100 in 0.22.\", FutureWarning)\n"
     ]
    },
    {
     "name": "stdout",
     "output_type": "stream",
     "text": [
      "RandomForestPCA800: 0.336798 (0.082486)\n"
     ]
    },
    {
     "name": "stderr",
     "output_type": "stream",
     "text": [
      "/home/bibek/venvs/deeplenv/lib/python3.7/site-packages/sklearn/ensemble/forest.py:248: FutureWarning: The default value of n_estimators will change from 10 in version 0.20 to 100 in 0.22.\n",
      "  \"10 in version 0.20 to 100 in 0.22.\", FutureWarning)\n",
      "/home/bibek/venvs/deeplenv/lib/python3.7/site-packages/sklearn/ensemble/forest.py:248: FutureWarning: The default value of n_estimators will change from 10 in version 0.20 to 100 in 0.22.\n",
      "  \"10 in version 0.20 to 100 in 0.22.\", FutureWarning)\n",
      "/home/bibek/venvs/deeplenv/lib/python3.7/site-packages/sklearn/ensemble/forest.py:248: FutureWarning: The default value of n_estimators will change from 10 in version 0.20 to 100 in 0.22.\n",
      "  \"10 in version 0.20 to 100 in 0.22.\", FutureWarning)\n",
      "/home/bibek/venvs/deeplenv/lib/python3.7/site-packages/sklearn/ensemble/forest.py:248: FutureWarning: The default value of n_estimators will change from 10 in version 0.20 to 100 in 0.22.\n",
      "  \"10 in version 0.20 to 100 in 0.22.\", FutureWarning)\n",
      "/home/bibek/venvs/deeplenv/lib/python3.7/site-packages/sklearn/ensemble/forest.py:248: FutureWarning: The default value of n_estimators will change from 10 in version 0.20 to 100 in 0.22.\n",
      "  \"10 in version 0.20 to 100 in 0.22.\", FutureWarning)\n",
      "/home/bibek/venvs/deeplenv/lib/python3.7/site-packages/sklearn/ensemble/forest.py:248: FutureWarning: The default value of n_estimators will change from 10 in version 0.20 to 100 in 0.22.\n",
      "  \"10 in version 0.20 to 100 in 0.22.\", FutureWarning)\n",
      "/home/bibek/venvs/deeplenv/lib/python3.7/site-packages/sklearn/ensemble/forest.py:248: FutureWarning: The default value of n_estimators will change from 10 in version 0.20 to 100 in 0.22.\n",
      "  \"10 in version 0.20 to 100 in 0.22.\", FutureWarning)\n",
      "/home/bibek/venvs/deeplenv/lib/python3.7/site-packages/sklearn/ensemble/forest.py:248: FutureWarning: The default value of n_estimators will change from 10 in version 0.20 to 100 in 0.22.\n",
      "  \"10 in version 0.20 to 100 in 0.22.\", FutureWarning)\n",
      "/home/bibek/venvs/deeplenv/lib/python3.7/site-packages/sklearn/ensemble/forest.py:248: FutureWarning: The default value of n_estimators will change from 10 in version 0.20 to 100 in 0.22.\n",
      "  \"10 in version 0.20 to 100 in 0.22.\", FutureWarning)\n",
      "/home/bibek/venvs/deeplenv/lib/python3.7/site-packages/sklearn/ensemble/forest.py:248: FutureWarning: The default value of n_estimators will change from 10 in version 0.20 to 100 in 0.22.\n",
      "  \"10 in version 0.20 to 100 in 0.22.\", FutureWarning)\n"
     ]
    },
    {
     "name": "stdout",
     "output_type": "stream",
     "text": [
      "RandomForestPCA900: 0.324707 (0.072426)\n"
     ]
    },
    {
     "name": "stderr",
     "output_type": "stream",
     "text": [
      "/home/bibek/venvs/deeplenv/lib/python3.7/site-packages/sklearn/ensemble/forest.py:248: FutureWarning: The default value of n_estimators will change from 10 in version 0.20 to 100 in 0.22.\n",
      "  \"10 in version 0.20 to 100 in 0.22.\", FutureWarning)\n",
      "/home/bibek/venvs/deeplenv/lib/python3.7/site-packages/sklearn/ensemble/forest.py:248: FutureWarning: The default value of n_estimators will change from 10 in version 0.20 to 100 in 0.22.\n",
      "  \"10 in version 0.20 to 100 in 0.22.\", FutureWarning)\n",
      "/home/bibek/venvs/deeplenv/lib/python3.7/site-packages/sklearn/ensemble/forest.py:248: FutureWarning: The default value of n_estimators will change from 10 in version 0.20 to 100 in 0.22.\n",
      "  \"10 in version 0.20 to 100 in 0.22.\", FutureWarning)\n",
      "/home/bibek/venvs/deeplenv/lib/python3.7/site-packages/sklearn/ensemble/forest.py:248: FutureWarning: The default value of n_estimators will change from 10 in version 0.20 to 100 in 0.22.\n",
      "  \"10 in version 0.20 to 100 in 0.22.\", FutureWarning)\n",
      "/home/bibek/venvs/deeplenv/lib/python3.7/site-packages/sklearn/ensemble/forest.py:248: FutureWarning: The default value of n_estimators will change from 10 in version 0.20 to 100 in 0.22.\n",
      "  \"10 in version 0.20 to 100 in 0.22.\", FutureWarning)\n",
      "/home/bibek/venvs/deeplenv/lib/python3.7/site-packages/sklearn/ensemble/forest.py:248: FutureWarning: The default value of n_estimators will change from 10 in version 0.20 to 100 in 0.22.\n",
      "  \"10 in version 0.20 to 100 in 0.22.\", FutureWarning)\n",
      "/home/bibek/venvs/deeplenv/lib/python3.7/site-packages/sklearn/ensemble/forest.py:248: FutureWarning: The default value of n_estimators will change from 10 in version 0.20 to 100 in 0.22.\n",
      "  \"10 in version 0.20 to 100 in 0.22.\", FutureWarning)\n",
      "/home/bibek/venvs/deeplenv/lib/python3.7/site-packages/sklearn/ensemble/forest.py:248: FutureWarning: The default value of n_estimators will change from 10 in version 0.20 to 100 in 0.22.\n",
      "  \"10 in version 0.20 to 100 in 0.22.\", FutureWarning)\n",
      "/home/bibek/venvs/deeplenv/lib/python3.7/site-packages/sklearn/ensemble/forest.py:248: FutureWarning: The default value of n_estimators will change from 10 in version 0.20 to 100 in 0.22.\n",
      "  \"10 in version 0.20 to 100 in 0.22.\", FutureWarning)\n",
      "/home/bibek/venvs/deeplenv/lib/python3.7/site-packages/sklearn/ensemble/forest.py:248: FutureWarning: The default value of n_estimators will change from 10 in version 0.20 to 100 in 0.22.\n",
      "  \"10 in version 0.20 to 100 in 0.22.\", FutureWarning)\n"
     ]
    },
    {
     "name": "stdout",
     "output_type": "stream",
     "text": [
      "RandomForestPCA1000: 0.329737 (0.073166)\n"
     ]
    },
    {
     "data": {
      "image/png": "[encoded data removed]",
      "text/plain": [
       "<Figure size 432x288 with 1 Axes>"
      ]
     },
     "metadata": {
      "needs_background": "light"
     },
     "output_type": "display_data"
    }
   ],
   "source": [
    "def compare_models(models_X_Y):\n",
    "    \"\"\"\n",
    "    @models_X_Y: [(modelname, model, X, Y), ...]\n",
    "    \"\"\"\n",
    "    scoring = 'accuracy'\n",
    "    seed = 7\n",
    "    results = []\n",
    "    names = [x[0] for x in models_X_Y]\n",
    "    for name, model, X, Y in models_X_Y:\n",
    "        kfold = ms.KFold(n_splits=10, random_state=seed)\n",
    "        cv_results = ms.cross_val_score(model, X, Y, cv=kfold, scoring=scoring)\n",
    "        results.append(cv_results)\n",
    "        names.append(name)\n",
    "        msg = \"%s: %f (%f)\" % (name, cv_results.mean(), cv_results.std())\n",
    "        print(msg)\n",
    "    # boxplot algorithm comparison\n",
    "    fig = plt.figure()\n",
    "    fig.suptitle('Algorithm Comparison')\n",
    "    ax = fig.add_subplot(111)\n",
    "    plt.boxplot(results)\n",
    "    ax.set_xticklabels(names)\n",
    "    ax.set_xlabel(\"Algorithms\")\n",
    "    ax.set_ylabel(\"Accuracy\")\n",
    "    plt.xticks(rotation=90)\n",
    "    plt.show()\n",
    "\n",
    "models_X_Y = []\n",
    "\n",
    "df = create_data_frame()\n",
    "\n",
    "models_X_Y.append(\n",
    "    get_features_labels_for_random_forest(df.copy(), name=\"RandomForest-Estimators300\", n_estimators=300)\n",
    ")\n",
    "# random forest with less estimators\n",
    "models_X_Y.append(\n",
    "    get_features_labels_for_random_forest(df.copy(), name=\"RandomForest-Estimators100\", n_estimators=100)\n",
    ")\n",
    "models_X_Y.append(\n",
    "    get_features_labels_for_random_forest(df.copy(), name=\"RandomForest-Estimators50\", n_estimators=50)\n",
    ")\n",
    "models_X_Y.append(\n",
    "    get_features_labels_for_logistic_regression(df.copy())\n",
    ")\n",
    "models_X_Y.append(\n",
    "    get_features_labels_for_KNN(df.copy())\n",
    ")\n",
    "models_X_Y.append( ## NAIVE BAYES WITH TF only (no IDF)\n",
    "    get_features_labels_for_naive_bayes(df.copy())\n",
    ")\n",
    "\n",
    "models_X_Y.append( ## NAIVE BAYES WITH TFIDF\n",
    "    get_features_labels_for_naive_bayes_tfidf(df.copy())\n",
    ")\n",
    "\n",
    "models_X_Y.append( ## Random Forest WITH dimension reduced TFIDF\n",
    "    get_features_labels_for_random_forest_PCA(df.copy())\n",
    ")\n",
    "models_X_Y.append( ## Random Forest WITH dimension reduced TFIDF\n",
    "    get_features_labels_for_random_forest_PCA(df.copy(), n_components=50)\n",
    ")\n",
    "# increase dimensions for Random forest\n",
    "for x in range(200, 1001, 100):\n",
    "    models_X_Y.append( ## Random Forest WITH dimension reduced TFIDF\n",
    "        get_features_labels_for_random_forest_PCA(df.copy(), n_components=x)\n",
    "    ) \n",
    "compare_models(models_X_Y)"
   ]
  },
  {
   "cell_type": "code",
   "execution_count": 16,
   "metadata": {},
   "outputs": [
    {
     "name": "stdout",
     "output_type": "stream",
     "text": [
      "training time RandomForest-Estimators300: 14.219701766967773\n",
      "testing time RandomForest-Estimators300: 0.29134416580200195\n",
      "training time RandomForest-Estimators100: 4.731241464614868\n",
      "testing time RandomForest-Estimators100: 0.09623384475708008\n",
      "training time RandomForest-Estimators50: 2.3769309520721436\n",
      "testing time RandomForest-Estimators50: 0.04950547218322754\n",
      "training time LogisticRegression: 0.08351683616638184\n",
      "testing time LogisticRegression: 0.0013937950134277344\n",
      "training time KNearestNeighbors: 0.006321907043457031\n",
      "testing time KNearestNeighbors: 0.10205817222595215\n",
      "training time NaiveBayesTF: 0.0391840934753418\n",
      "testing time NaiveBayesTF: 0.00384521484375\n",
      "training time NaiveBayesTFIDF: 0.03911590576171875\n",
      "testing time NaiveBayesTFIDF: 0.0032591819763183594\n"
     ]
    },
    {
     "name": "stderr",
     "output_type": "stream",
     "text": [
      "/home/bibek/venvs/deeplenv/lib/python3.7/site-packages/sklearn/ensemble/forest.py:248: FutureWarning: The default value of n_estimators will change from 10 in version 0.20 to 100 in 0.22.\n",
      "  \"10 in version 0.20 to 100 in 0.22.\", FutureWarning)\n",
      "/home/bibek/venvs/deeplenv/lib/python3.7/site-packages/sklearn/ensemble/forest.py:248: FutureWarning: The default value of n_estimators will change from 10 in version 0.20 to 100 in 0.22.\n",
      "  \"10 in version 0.20 to 100 in 0.22.\", FutureWarning)\n"
     ]
    },
    {
     "name": "stdout",
     "output_type": "stream",
     "text": [
      "training time RandomForestPCA100: 0.18672943115234375\n",
      "testing time RandomForestPCA100: 0.006083011627197266\n",
      "training time RandomForestPCA50: 0.14107131958007812\n",
      "testing time RandomForestPCA50: 0.00553584098815918\n"
     ]
    },
    {
     "name": "stderr",
     "output_type": "stream",
     "text": [
      "/home/bibek/venvs/deeplenv/lib/python3.7/site-packages/sklearn/ensemble/forest.py:248: FutureWarning: The default value of n_estimators will change from 10 in version 0.20 to 100 in 0.22.\n",
      "  \"10 in version 0.20 to 100 in 0.22.\", FutureWarning)\n"
     ]
    },
    {
     "name": "stdout",
     "output_type": "stream",
     "text": [
      "training time RandomForestPCA200: 0.29668235778808594\n",
      "testing time RandomForestPCA200: 0.0065958499908447266\n"
     ]
    },
    {
     "name": "stderr",
     "output_type": "stream",
     "text": [
      "/home/bibek/venvs/deeplenv/lib/python3.7/site-packages/sklearn/ensemble/forest.py:248: FutureWarning: The default value of n_estimators will change from 10 in version 0.20 to 100 in 0.22.\n",
      "  \"10 in version 0.20 to 100 in 0.22.\", FutureWarning)\n"
     ]
    },
    {
     "name": "stdout",
     "output_type": "stream",
     "text": [
      "training time RandomForestPCA300: 0.3112778663635254\n",
      "testing time RandomForestPCA300: 0.0063173770904541016\n"
     ]
    },
    {
     "name": "stderr",
     "output_type": "stream",
     "text": [
      "/home/bibek/venvs/deeplenv/lib/python3.7/site-packages/sklearn/ensemble/forest.py:248: FutureWarning: The default value of n_estimators will change from 10 in version 0.20 to 100 in 0.22.\n",
      "  \"10 in version 0.20 to 100 in 0.22.\", FutureWarning)\n"
     ]
    },
    {
     "name": "stdout",
     "output_type": "stream",
     "text": [
      "training time RandomForestPCA400: 0.3410604000091553\n",
      "testing time RandomForestPCA400: 0.0064961910247802734\n"
     ]
    },
    {
     "name": "stderr",
     "output_type": "stream",
     "text": [
      "/home/bibek/venvs/deeplenv/lib/python3.7/site-packages/sklearn/ensemble/forest.py:248: FutureWarning: The default value of n_estimators will change from 10 in version 0.20 to 100 in 0.22.\n",
      "  \"10 in version 0.20 to 100 in 0.22.\", FutureWarning)\n"
     ]
    },
    {
     "name": "stdout",
     "output_type": "stream",
     "text": [
      "training time RandomForestPCA500: 0.38963961601257324\n",
      "testing time RandomForestPCA500: 0.006352663040161133\n"
     ]
    },
    {
     "name": "stderr",
     "output_type": "stream",
     "text": [
      "/home/bibek/venvs/deeplenv/lib/python3.7/site-packages/sklearn/ensemble/forest.py:248: FutureWarning: The default value of n_estimators will change from 10 in version 0.20 to 100 in 0.22.\n",
      "  \"10 in version 0.20 to 100 in 0.22.\", FutureWarning)\n"
     ]
    },
    {
     "name": "stdout",
     "output_type": "stream",
     "text": [
      "training time RandomForestPCA600: 0.4105350971221924\n",
      "testing time RandomForestPCA600: 0.006494045257568359\n"
     ]
    },
    {
     "name": "stderr",
     "output_type": "stream",
     "text": [
      "/home/bibek/venvs/deeplenv/lib/python3.7/site-packages/sklearn/ensemble/forest.py:248: FutureWarning: The default value of n_estimators will change from 10 in version 0.20 to 100 in 0.22.\n",
      "  \"10 in version 0.20 to 100 in 0.22.\", FutureWarning)\n"
     ]
    },
    {
     "name": "stdout",
     "output_type": "stream",
     "text": [
      "training time RandomForestPCA700: 0.43132781982421875\n",
      "testing time RandomForestPCA700: 0.006440162658691406\n"
     ]
    },
    {
     "name": "stderr",
     "output_type": "stream",
     "text": [
      "/home/bibek/venvs/deeplenv/lib/python3.7/site-packages/sklearn/ensemble/forest.py:248: FutureWarning: The default value of n_estimators will change from 10 in version 0.20 to 100 in 0.22.\n",
      "  \"10 in version 0.20 to 100 in 0.22.\", FutureWarning)\n"
     ]
    },
    {
     "name": "stdout",
     "output_type": "stream",
     "text": [
      "training time RandomForestPCA800: 0.46489930152893066\n",
      "testing time RandomForestPCA800: 0.0066606998443603516\n"
     ]
    },
    {
     "name": "stderr",
     "output_type": "stream",
     "text": [
      "/home/bibek/venvs/deeplenv/lib/python3.7/site-packages/sklearn/ensemble/forest.py:248: FutureWarning: The default value of n_estimators will change from 10 in version 0.20 to 100 in 0.22.\n",
      "  \"10 in version 0.20 to 100 in 0.22.\", FutureWarning)\n"
     ]
    },
    {
     "name": "stdout",
     "output_type": "stream",
     "text": [
      "training time RandomForestPCA900: 0.4988973140716553\n",
      "testing time RandomForestPCA900: 0.006736040115356445\n"
     ]
    },
    {
     "name": "stderr",
     "output_type": "stream",
     "text": [
      "/home/bibek/venvs/deeplenv/lib/python3.7/site-packages/sklearn/ensemble/forest.py:248: FutureWarning: The default value of n_estimators will change from 10 in version 0.20 to 100 in 0.22.\n",
      "  \"10 in version 0.20 to 100 in 0.22.\", FutureWarning)\n"
     ]
    },
    {
     "name": "stdout",
     "output_type": "stream",
     "text": [
      "training time RandomForestPCA1000: 0.5314528942108154\n",
      "testing time RandomForestPCA1000: 0.009205341339111328\n"
     ]
    },
    {
     "data": {
      "image/png": "[encoded data removed]",
      "text/plain": [
       "<Figure size 432x288 with 1 Axes>"
      ]
     },
     "metadata": {
      "needs_background": "light"
     },
     "output_type": "display_data"
    }
   ],
   "source": [
    "## Benchmark the speeds\n",
    "from sklearn.model_selection import train_test_split\n",
    "import matplotlib.pyplot as plt\n",
    "\n",
    "import time\n",
    "\n",
    "def benchmark_speed(models):\n",
    "    names = []\n",
    "    test_times = []\n",
    "    train_times = []\n",
    "    for name, model, X, Y in models:\n",
    "        names.append(name)\n",
    "        X_train, X_test, y_train, y_test = train_test_split(X, Y, test_size=0.33, random_state=42)\n",
    "        ## training_time\n",
    "        t0 = time.time()\n",
    "        model.fit(X_train, y_train)\n",
    "        t1 = time.time()\n",
    "        print(\"training time {}: {}\".format(name, t1-t0))\n",
    "        train_times.append(t1-t0)\n",
    "        \n",
    "        ## test time\n",
    "        t0 = time.time()\n",
    "        predicted = model.predict(X_test)\n",
    "        t1 = time.time()\n",
    "        print(\"testing time {}: {}\".format(name, t1-t0))\n",
    "        test_times.append(t1-t0)\n",
    "\n",
    "    test_times = np.array(test_times) * 1000  # convert to ms\n",
    "    train_times = np.array(train_times) * 1000 # convert to ms\n",
    "    ax = plt.subplot(111)\n",
    "    barwidth = 20\n",
    "    xax = np.arange(len(names))*2.5*barwidth\n",
    "    \n",
    "    ax.bar(xax, train_times, width=barwidth, color='r', label='train time')\n",
    "    ax.bar(xax+ barwidth, test_times, width=barwidth, color='b', label='test time')\n",
    "    # Set ticks and labels\n",
    "    ax.set_xticks(xax)\n",
    "    ax.set_xticklabels(names)\n",
    "    ax.set_xlabel(\"Algorithms\")\n",
    "    ax.set_ylabel(\"Time(ms)\")\n",
    "    # Set legends\n",
    "    handles, labels = ax.get_legend_handles_labels()\n",
    "    ax.legend(handles[::-1], labels[::-1])\n",
    "    plt.xticks(rotation=90)\n",
    "    plt.show()\n",
    "\n",
    "benchmark_speed(models_X_Y)"
   ]
  }
 ],
 "metadata": {
  "kernelspec": {
   "display_name": "deeplenv",
   "language": "python",
   "name": "deeplenv"
  },
  "language_info": {
   "codemirror_mode": {
    "name": "ipython",
    "version": 3
   },
   "file_extension": ".py",
   "mimetype": "text/x-python",
   "name": "python",
   "nbconvert_exporter": "python",
   "pygments_lexer": "ipython3",
   "version": "3.7.1"
  }
 },
 "nbformat": 4,
 "nbformat_minor": 2
}
