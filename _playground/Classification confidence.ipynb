{
 "cells": [
  {
   "cell_type": "code",
   "execution_count": 1,
   "metadata": {},
   "outputs": [],
   "source": [
    "import sys\n",
    "sys.path.insert(0, '/home/bibek/projects/DEEPL')\n",
    "import numpy as np\n",
    "import pandas as pd\n",
    "import csv\n",
    "import json"
   ]
  },
  {
   "cell_type": "code",
   "execution_count": 5,
   "metadata": {},
   "outputs": [],
   "source": [
    "from helpers.deep import get_sector_excerpt, process_deep_entries_data\n",
    "data = process_deep_entries_data('nlp/nlp_out.csv')"
   ]
  },
  {
   "cell_type": "code",
   "execution_count": 12,
   "metadata": {},
   "outputs": [],
   "source": [
    "import random\n",
    "random.shuffle(data)\n",
    "\n",
    "SAMPLE_SIZE = 100\n",
    "sectors_samples = {}  # to hold samples of all sectors\n",
    "samples_counts = {}  # to hold samples count of sectors\n",
    "for excerpt, label in data:\n",
    "    if not samples_counts.get(label):\n",
    "        samples_counts[label] = 0\n",
    "    if samples_counts[label] < SAMPLE_SIZE:\n",
    "        sectors_samples[label] = sectors_samples.get(label, []) + [excerpt]\n",
    "        samples_counts[label] += 1\n"
   ]
  },
  {
   "cell_type": "code",
   "execution_count": 26,
   "metadata": {},
   "outputs": [],
   "source": [
    "def get_confidence_interval_discrete(percent, true, total):\n",
    "    factor = 2 if percent == 95 else 1.5 # TODO: add for other confidence levels\n",
    "    adjusted_true = true + 2\n",
    "    adjusted_total = total + 4\n",
    "    prob = adjusted_true/float(adjusted_total)\n",
    "    print(prob)\n",
    "    var = prob * (1-prob)\n",
    "    err = var/adjusted_total\n",
    "    sqrt = err**0.5\n",
    "    error_margin = sqrt*factor\n",
    "    return (prob-error_margin, prob+error_margin)"
   ]
  },
  {
   "cell_type": "code",
   "execution_count": 28,
   "metadata": {},
   "outputs": [
    {
     "name": "stdout",
     "output_type": "stream",
     "text": [
      "0.8269230769230769\n",
      "0.7403846153846154\n",
      "0.6826923076923077\n",
      "0.5673076923076923\n",
      "0.8461538461538461\n",
      "0.6538461538461539\n",
      "0.5576923076923077\n",
      "0.7692307692307693\n",
      "0.7596153846153846\n",
      "0.5288461538461539\n",
      "0.2692307692307692\n",
      "0.47115384615384615\n",
      "{'Health': (0.7527296442427492, 0.9011165096034045), 'WASH': (0.6544026770562239, 0.8263665537130069), 'Shelter': (0.5914143044633599, 0.7739703109212556), 'Cross': (0.47014215660142905, 0.6644732280139556), 'Protection': (0.7753949068455539, 0.9169127854621384), 'Logistic': (0.5605452838389262, 0.7471470238533815), 'Nutrition': (0.4602891807418037, 0.6550954346428117), 'Food': (0.686602129918527, 0.8518594085430116), 'Education': (0.6758116183903501, 0.8434191508404191), 'Agriculture': (0.4309514106447313, 0.6267408970475764), 'NFI': (0.1822414767574606, 0.35622006170407783), 'Livelihood': (0.3732591029524236, 0.5690485893552687)}\n"
     ]
    }
   ],
   "source": [
    "# now get the model\n",
    "import os\n",
    "os.environ['DJANGO_SETTINGS_MODULE'] = 'deepl.settings'\n",
    "import django\n",
    "django.setup()\n",
    "from classifier.models import ClassifierModel\n",
    "\n",
    "import pickle\n",
    "\n",
    "model = ClassifierModel.objects.last()\n",
    "classifier = pickle.loads(model.data)\n",
    "\n",
    "confidences = {}\n",
    "for label, entries in sectors_samples.items():\n",
    "    total_classified = len(entries)\n",
    "    correct_classified = 0\n",
    "    for entry in entries:\n",
    "        classified = classifier.classify(classifier.preprocess(entry))\n",
    "        if classified == label:\n",
    "            correct_classified += 1\n",
    "    confidence95 = get_confidence_interval_discrete(95, correct_classified, total_classified)\n",
    "    confidences[label] = confidence95\n",
    "print(confidences)"
   ]
  }
 ],
 "metadata": {
  "kernelspec": {
   "display_name": "Python3 (.env)",
   "language": "python",
   "name": ".env"
  },
  "language_info": {
   "codemirror_mode": {
    "name": "ipython",
    "version": 3
   },
   "file_extension": ".py",
   "mimetype": "text/x-python",
   "name": "python",
   "nbconvert_exporter": "python",
   "pygments_lexer": "ipython3",
   "version": "3.6.4"
  }
 },
 "nbformat": 4,
 "nbformat_minor": 2
}
