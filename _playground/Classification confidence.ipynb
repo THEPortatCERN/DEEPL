{
 "cells": [
  {
   "cell_type": "code",
   "execution_count": 1,
   "metadata": {},
   "outputs": [],
   "source": [
    "import sys\n",
    "sys.path.insert(0, '/home/bibek/projects/DEEPL')\n",
    "import numpy as np\n",
    "import pandas as pd\n",
    "import csv\n",
    "import json"
   ]
  },
  {
   "cell_type": "code",
   "execution_count": 2,
   "metadata": {},
   "outputs": [],
   "source": [
    "from helpers.deep import get_sector_excerpt, process_deep_entries_data\n",
    "data = process_deep_entries_data('nlp/nlp_out.csv')"
   ]
  },
  {
   "cell_type": "code",
   "execution_count": 3,
   "metadata": {},
   "outputs": [],
   "source": [
    "import random\n",
    "random.shuffle(data)\n",
    "\n",
    "SAMPLE_SIZE = 100\n",
    "sectors_samples = {}  # to hold samples of all sectors\n",
    "samples_counts = {}  # to hold samples count of sectors\n",
    "for excerpt, label in data:\n",
    "    if not samples_counts.get(label):\n",
    "        samples_counts[label] = 0\n",
    "    if samples_counts[label] < SAMPLE_SIZE:\n",
    "        sectors_samples[label] = sectors_samples.get(label, []) + [excerpt]\n",
    "        samples_counts[label] += 1\n"
   ]
  },
  {
   "cell_type": "code",
   "execution_count": 4,
   "metadata": {},
   "outputs": [],
   "source": [
    "def get_confidence_interval_discrete(percent, true, total):\n",
    "    factor = 2 if percent == 95 else 1.5 # TODO: add for other confidence levels\n",
    "    adjusted_true = true + 2\n",
    "    adjusted_total = total + 4\n",
    "    prob = adjusted_true/float(adjusted_total)\n",
    "    print(prob)\n",
    "    var = prob * (1-prob)\n",
    "    err = var/adjusted_total\n",
    "    sqrt = err**0.5\n",
    "    error_margin = sqrt*factor\n",
    "    return (prob-error_margin, prob+error_margin)"
   ]
  },
  {
   "cell_type": "code",
   "execution_count": 8,
   "metadata": {},
   "outputs": [
    {
     "name": "stdout",
     "output_type": "stream",
     "text": [
      "0.8365384615384616\n",
      "0.7115384615384616\n",
      "0.6538461538461539\n",
      "0.8365384615384616\n",
      "0.6634615384615384\n",
      "0.7019230769230769\n",
      "0.5096153846153846\n",
      "0.25\n",
      "0.8365384615384616\n",
      "0.5865384615384616\n",
      "0.6057692307692307\n",
      "0.5480769230769231\n",
      "{'Protection': (0.7640174131600967, 0.9090595099168264), 'Food': (0.62268865757133, 0.8003882655055932), 'Shelter': (0.5605452838389262, 0.7471470238533815), 'Health': (0.7640174131600967, 0.9090595099168264), 'Nutrition': (0.5707916683593254, 0.7561314085637515), 'WASH': (0.612216917498603, 0.7916292363475508), 'Livelihood': (0.4115754507621331, 0.6076553184686361), 'NFI': (0.16507922243915532, 0.3349207775608447), 'Education': (0.7640174131600967, 0.9090595099168264), 'Agriculture': (0.48996025594747306, 0.6831166671294501), 'Logistic': (0.5099302492544635, 0.701608212283998), 'Cross': (0.4504732091131731, 0.6456806370406731)}\n"
     ]
    }
   ],
   "source": [
    "# now get the model\n",
    "import os\n",
    "os.environ['DJANGO_SETTINGS_MODULE'] = 'deepl.settings'\n",
    "import django\n",
    "django.setup()\n",
    "from classifier.models import ClassifierModel\n",
    "\n",
    "import pickle\n",
    "\n",
    "model = ClassifierModel.objects.last()\n",
    "for model in ClassifierModel.objects.all():\n",
    "    classifier = pickle.loads(model.data)\n",
    "\n",
    "    confidences = {}\n",
    "    for label, entries in sectors_samples.items():\n",
    "        total_classified = len(entries)\n",
    "        correct_classified = 0\n",
    "        for entry in entries:\n",
    "            classified = classifier.classify(classifier.preprocess(entry))\n",
    "            if classified == label:\n",
    "                correct_classified += 1\n",
    "        confidence95 = get_confidence_interval_discrete(95, correct_classified, total_classified)\n",
    "        confidences[label] = confidence95\n",
    "        model.metadata['confidences_95'] = confidences\n",
    "print(confidences)"
   ]
  },
  {
   "cell_type": "code",
   "execution_count": 7,
   "metadata": {},
   "outputs": [],
   "source": [
    "model.metadata['confidences'] = confidences\n",
    "model.save()"
   ]
  }
 ],
 "metadata": {
  "kernelspec": {
   "display_name": "Python3 (.env)",
   "language": "python",
   "name": ".env"
  },
  "language_info": {
   "codemirror_mode": {
    "name": "ipython",
    "version": 3
   },
   "file_extension": ".py",
   "mimetype": "text/x-python",
   "name": "python",
   "nbconvert_exporter": "python",
   "pygments_lexer": "ipython3",
   "version": "3.6.4"
  }
 },
 "nbformat": 4,
 "nbformat_minor": 2
}
