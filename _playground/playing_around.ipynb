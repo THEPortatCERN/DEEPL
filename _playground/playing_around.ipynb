{
 "cells": [
  {
   "cell_type": "code",
   "execution_count": 34,
   "metadata": {},
   "outputs": [],
   "source": [
    "import numpy as np\n",
    "import pandas as pd\n",
    "%matplotlib inline"
   ]
  },
  {
   "cell_type": "code",
   "execution_count": 41,
   "metadata": {},
   "outputs": [],
   "source": [
    "df = pd.read_csv('nlp/nlp_out.csv')"
   ]
  },
  {
   "cell_type": "code",
   "execution_count": 42,
   "metadata": {},
   "outputs": [
    {
     "data": {
      "text/html": [
       "<div>\n",
       "<style>\n",
       "    .dataframe thead tr:only-child th {\n",
       "        text-align: right;\n",
       "    }\n",
       "\n",
       "    .dataframe thead th {\n",
       "        text-align: left;\n",
       "    }\n",
       "\n",
       "    .dataframe tbody tr th {\n",
       "        vertical-align: top;\n",
       "    }\n",
       "</style>\n",
       "<table border=\"1\" class=\"dataframe\">\n",
       "  <thead>\n",
       "    <tr style=\"text-align: right;\">\n",
       "      <th></th>\n",
       "      <th>onedim_j</th>\n",
       "      <th>severity</th>\n",
       "    </tr>\n",
       "  </thead>\n",
       "  <tbody>\n",
       "    <tr>\n",
       "      <th>0</th>\n",
       "      <td>{\"Population Profile\": [\"Demographic Profile\"]}</td>\n",
       "      <td>Situation of Concern</td>\n",
       "    </tr>\n",
       "    <tr>\n",
       "      <th>1</th>\n",
       "      <td>null</td>\n",
       "      <td>Severe Conditions</td>\n",
       "    </tr>\n",
       "    <tr>\n",
       "      <th>2</th>\n",
       "      <td>null</td>\n",
       "      <td>Severe Conditions</td>\n",
       "    </tr>\n",
       "    <tr>\n",
       "      <th>3</th>\n",
       "      <td>null</td>\n",
       "      <td>Severe Conditions</td>\n",
       "    </tr>\n",
       "    <tr>\n",
       "      <th>4</th>\n",
       "      <td>null</td>\n",
       "      <td>Situation of Concern</td>\n",
       "    </tr>\n",
       "  </tbody>\n",
       "</table>\n",
       "</div>"
      ],
      "text/plain": [
       "                                          onedim_j              severity\n",
       "0  {\"Population Profile\": [\"Demographic Profile\"]}  Situation of Concern\n",
       "1                                             null     Severe Conditions\n",
       "2                                             null     Severe Conditions\n",
       "3                                             null     Severe Conditions\n",
       "4                                             null  Situation of Concern"
      ]
     },
     "execution_count": 42,
     "metadata": {},
     "output_type": "execute_result"
    }
   ],
   "source": [
    "df[['onedim_j', 'severity']][:5]"
   ]
  },
  {
   "cell_type": "code",
   "execution_count": 19,
   "metadata": {},
   "outputs": [],
   "source": [
    "severity_counts = df['severity'].value_counts()"
   ]
  },
  {
   "cell_type": "code",
   "execution_count": 23,
   "metadata": {},
   "outputs": [
    {
     "data": {
      "text/plain": [
       "<matplotlib.axes._subplots.AxesSubplot at 0x7f672cd2bc50>"
      ]
     },
     "execution_count": 23,
     "metadata": {},
     "output_type": "execute_result"
    },
    {
     "data": {
      "image/png": "[encoded data removed]",
      "text/plain": [
       "<matplotlib.figure.Figure at 0x7f6736e21940>"
      ]
     },
     "metadata": {},
     "output_type": "display_data"
    }
   ],
   "source": [
    "severity_counts.plot(kind='bar')"
   ]
  },
  {
   "cell_type": "code",
   "execution_count": 44,
   "metadata": {},
   "outputs": [],
   "source": [
    "sev_conditions = df[df['severity'] == 'Severe Conditions']"
   ]
  },
  {
   "cell_type": "code",
   "execution_count": 47,
   "metadata": {},
   "outputs": [
    {
     "data": {
      "text/html": [
       "<div>\n",
       "<style>\n",
       "    .dataframe thead tr:only-child th {\n",
       "        text-align: right;\n",
       "    }\n",
       "\n",
       "    .dataframe thead th {\n",
       "        text-align: left;\n",
       "    }\n",
       "\n",
       "    .dataframe tbody tr th {\n",
       "        vertical-align: top;\n",
       "    }\n",
       "</style>\n",
       "<table border=\"1\" class=\"dataframe\">\n",
       "  <thead>\n",
       "    <tr style=\"text-align: right;\">\n",
       "      <th></th>\n",
       "      <th>onedim_j</th>\n",
       "      <th>twodim_j</th>\n",
       "      <th>reliability</th>\n",
       "      <th>severity</th>\n",
       "      <th>demo_groups_j</th>\n",
       "      <th>specific_needs_j</th>\n",
       "      <th>aff_groups_j</th>\n",
       "      <th>geo_j</th>\n",
       "      <th>info_date</th>\n",
       "      <th>excerpt</th>\n",
       "      <th>has_image</th>\n",
       "      <th>lead_text</th>\n",
       "      <th>lead_id</th>\n",
       "      <th>lead_url</th>\n",
       "      <th>event</th>\n",
       "    </tr>\n",
       "  </thead>\n",
       "  <tbody>\n",
       "    <tr>\n",
       "      <th>1</th>\n",
       "      <td>null</td>\n",
       "      <td>[{\"sector\": \"Nutrition\", \"subsectors\": [\"Breas...</td>\n",
       "      <td>Usually</td>\n",
       "      <td>Severe Conditions</td>\n",
       "      <td>[\"Infants/toddlers (&lt; 5 years old)\"]</td>\n",
       "      <td>null</td>\n",
       "      <td>[\"Affected\"]</td>\n",
       "      <td>null</td>\n",
       "      <td>2016-11-15</td>\n",
       "      <td>112,500 children under five are at risk of acu...</td>\n",
       "      <td>True</td>\n",
       "      <td>None</td>\n",
       "      <td>4</td>\n",
       "      <td>http://reliefweb.int/sites/reliefweb.int/files...</td>\n",
       "      <td>Test Event</td>\n",
       "    </tr>\n",
       "  </tbody>\n",
       "</table>\n",
       "</div>"
      ],
      "text/plain": [
       "  onedim_j                                           twodim_j reliability  \\\n",
       "1     null  [{\"sector\": \"Nutrition\", \"subsectors\": [\"Breas...     Usually   \n",
       "\n",
       "            severity                         demo_groups_j specific_needs_j  \\\n",
       "1  Severe Conditions  [\"Infants/toddlers (< 5 years old)\"]             null   \n",
       "\n",
       "   aff_groups_j geo_j   info_date  \\\n",
       "1  [\"Affected\"]  null  2016-11-15   \n",
       "\n",
       "                                             excerpt  has_image lead_text  \\\n",
       "1  112,500 children under five are at risk of acu...       True      None   \n",
       "\n",
       "   lead_id                                           lead_url       event  \n",
       "1        4  http://reliefweb.int/sites/reliefweb.int/files...  Test Event  "
      ]
     },
     "execution_count": 47,
     "metadata": {},
     "output_type": "execute_result"
    }
   ],
   "source": [
    "sev_conditions[:1]"
   ]
  },
  {
   "cell_type": "code",
   "execution_count": 30,
   "metadata": {},
   "outputs": [
    {
     "data": {
      "text/plain": [
       "Index(['onedim_j', 'twodim_j', 'demo_groups_j', 'specific_needs_j',\n",
       "       'aff_groups_j', 'geo_j'],\n",
       "      dtype='object')"
      ]
     },
     "execution_count": 30,
     "metadata": {},
     "output_type": "execute_result"
    }
   ],
   "source": [
    "df.filter(like='_j').columns"
   ]
  },
  {
   "cell_type": "code",
   "execution_count": 8,
   "metadata": {},
   "outputs": [],
   "source": [
    "################ NLTK playing around\n",
    "import nltk\n",
    "from nltk.corpus import names"
   ]
  },
  {
   "cell_type": "code",
   "execution_count": 9,
   "metadata": {},
   "outputs": [],
   "source": [
    "labeled_names = [(name, \"male\") for name in names.words('male.txt')] + [(name, \"female\") for name in names.words('female.txt')]"
   ]
  },
  {
   "cell_type": "code",
   "execution_count": 5,
   "metadata": {},
   "outputs": [],
   "source": [
    "import random\n",
    "def train_corpus(corpus, feature_function):\n",
    "    \"\"\"Returns a classifier and its accuracy based on the corpus and feature function\"\"\"\n",
    "    # TODO: set option for uniform sampling of all groups or just sample randomly without considering \n",
    "    random.shuffle(corpus)\n",
    "    feature_sets = [(feature_function(n), label) for (n, label) in corpus]\n",
    "    train_set, test_set = feature_sets[500:], feature_sets[:500]\n",
    "    classifier = nltk.NaiveBayesClassifier.train(train_set)\n",
    "    accuracy = nltk.classify.accuracy(classifier, test_set)\n",
    "    return classifier, accuracy"
   ]
  },
  {
   "cell_type": "code",
   "execution_count": 6,
   "metadata": {},
   "outputs": [],
   "source": [
    "def gender_feature_1(name):\n",
    "    return {'first': name[0], 'last':name[-1]}\n",
    "def gender_feature_2(name):\n",
    "    return {'last':name[-1]}"
   ]
  },
  {
   "cell_type": "code",
   "execution_count": 10,
   "metadata": {},
   "outputs": [],
   "source": [
    "# Get classifiers\n",
    "classifier1, accuracy1 = train_corpus(labeled_names, gender_feature_1)\n",
    "classifier2, accuracy2 = train_corpus(labeled_names, gender_feature_2)\n",
    "# Get features for carol\n",
    "carol_f1 = gender_feature_1('carol')\n",
    "carol_f2 = gender_feature_2('carol')"
   ]
  },
  {
   "cell_type": "code",
   "execution_count": 30,
   "metadata": {},
   "outputs": [],
   "source": [
    "def get_classification_probs(classifier, features):\n",
    "    \"\"\"Returns list of tuples containing labelname and probability\"\"\"\n",
    "    dist = classifier.prob_classify(features)\n",
    "    return [(label, dist.prob(label)) for label in dist.samples()]"
   ]
  },
  {
   "cell_type": "code",
   "execution_count": 35,
   "metadata": {},
   "outputs": [
    {
     "name": "stdout",
     "output_type": "stream",
     "text": [
      "[('female', 0.47841239233277494), ('male', 0.5215876076672253)]\n",
      "[('female', 0.36440393622717915), ('male', 0.635596063772822)]\n"
     ]
    }
   ],
   "source": [
    "print(get_classification_probs(classifier2, carol_f2))\n",
    "print(get_classification_probs(classifier1, carol_f1))"
   ]
  },
  {
   "cell_type": "code",
   "execution_count": 12,
   "metadata": {},
   "outputs": [],
   "source": [
    "import pickle\n",
    "f= open('classifier.object', 'wb')\n",
    "pickle.dump(classifier1, f)\n",
    "f.close()"
   ]
  },
  {
   "cell_type": "code",
   "execution_count": 13,
   "metadata": {},
   "outputs": [
    {
     "ename": "TypeError",
     "evalue": "__init__() missing 2 required positional arguments: 'label_probdist' and 'feature_probdist'",
     "output_type": "error",
     "traceback": [
      "\u001b[0;31m---------------------------------------------------------------------------\u001b[0m",
      "\u001b[0;31mTypeError\u001b[0m                                 Traceback (most recent call last)",
      "\u001b[0;32m<ipython-input-13-33d9fb5ee4df>\u001b[0m in \u001b[0;36m<module>\u001b[0;34m()\u001b[0m\n\u001b[0;32m----> 1\u001b[0;31m \u001b[0mc\u001b[0m \u001b[0;34m=\u001b[0m\u001b[0mnltk\u001b[0m\u001b[0;34m.\u001b[0m\u001b[0mNaiveBayesClassifier\u001b[0m\u001b[0;34m(\u001b[0m\u001b[0;34m)\u001b[0m\u001b[0;34m\u001b[0m\u001b[0m\n\u001b[0m\u001b[1;32m      2\u001b[0m \u001b[0mc\u001b[0m\u001b[0;34m.\u001b[0m\u001b[0mclassify\u001b[0m\u001b[0;34m(\u001b[0m\u001b[0;34m'bibek'\u001b[0m\u001b[0;34m)\u001b[0m\u001b[0;34m\u001b[0m\u001b[0m\n",
      "\u001b[0;31mTypeError\u001b[0m: __init__() missing 2 required positional arguments: 'label_probdist' and 'feature_probdist'"
     ]
    }
   ],
   "source": [
    "c =nltk.NaiveBayesClassifier()\n",
    "c.classify('bibek')"
   ]
  },
  {
   "cell_type": "code",
   "execution_count": 6,
   "metadata": {},
   "outputs": [
    {
     "data": {
      "text/plain": [
       "[<matplotlib.lines.Line2D at 0x7f93f7619d68>]"
      ]
     },
     "execution_count": 6,
     "metadata": {},
     "output_type": "execute_result"
    },
    {
     "data": {
      "image/png": "[encoded data removed]",
      "text/plain": [
       "<matplotlib.figure.Figure at 0x7f93ff432b70>"
      ]
     },
     "metadata": {},
     "output_type": "display_data"
    }
   ],
   "source": [
    "import matplotlib.pyplot as plt\n",
    "import json\n",
    "f = open('accuracy.json', 'r')\n",
    "data = json.load(f)\n",
    "x = list(map(lambda x: x[0], data))\n",
    "y = list(map(lambda x: x[1], data))\n",
    "\n",
    "fig = plt.figure(figsize=(15,8))\n",
    "plt.xticks([x for x in range(500, 28000, 1500)])\n",
    "plt.xlabel('# of TRAINING SETS')\n",
    "plt.ylabel('ACCURACY')\n",
    "plt.grid(True)\n",
    "plt.plot(x, y, 'k')"
   ]
  },
  {
   "cell_type": "code",
   "execution_count": 1,
   "metadata": {},
   "outputs": [],
   "source": [
    "import sys\n",
    "sys.path.append('/home/bibek/projects/DEEPL')"
   ]
  },
  {
   "cell_type": "code",
   "execution_count": 2,
   "metadata": {},
   "outputs": [],
   "source": [
    "import numpy as np\n",
    "import pandas as pd\n",
    "from sklearn.naive_bayes import MultinomialNB"
   ]
  },
  {
   "cell_type": "code",
   "execution_count": 15,
   "metadata": {},
   "outputs": [
    {
     "name": "stdout",
     "output_type": "stream",
     "text": [
      "[[4 2 3 3 0 1 0 4 2 1 2 2 3 0 2 4 0 2 2 0 4 0 1 2 1 4 3 1 0 2 2 2 3 3 0 3 2\n",
      "  1 2 4 4 1 2 1 0 1 1 4 4 2 3 4 2 4 1 1 4 4 1 1 0 3 3 4 3 4 4 2 4 0 3 1 3 1\n",
      "  3 0 0 2 4 4 2 1 1 1 3 0 0 1 0 4 1 3 2 1 4 2 2 3 0 1]]\n",
      "[3 4]\n"
     ]
    }
   ],
   "source": [
    "X = np.random.randint(5, size=(6, 100))\n",
    "y = np.array([1, 2, 3, 4, 5, 6])\n",
    "clf = MultinomialNB()\n",
    "clf.fit(X, y)\n",
    "print(X[2:3])\n",
    "print(clf.predict(X[2:4]))"
   ]
  },
  {
   "cell_type": "code",
   "execution_count": 16,
   "metadata": {},
   "outputs": [
    {
     "name": "stderr",
     "output_type": "stream",
     "text": [
      "Downloading 20news dataset. This may take a few minutes.\n",
      "Downloading dataset from https://ndownloader.figshare.com/files/5975967 (14 MB)\n"
     ]
    },
    {
     "data": {
      "text/plain": [
       "array([ 8,  0,  3,  6,  5,  4,  9,  7, 11,  1, 10,  3,  5,  2,  4,  9,  3], dtype=int32)"
      ]
     },
     "execution_count": 16,
     "metadata": {},
     "output_type": "execute_result"
    }
   ],
   "source": [
    "from sklearn.datasets import fetch_20newsgroups\n",
    "twenty_train = fetch_20newsgroups(subset='train', shuffle=True)\n",
    "\n",
    "twenty_train.target_names #prints all the categories\n",
    "\n",
    "data = [\"my name is bibek pandey.\", \"This is my first use of scikit learn.\", \"scikit learn is fun\"]\n",
    "\n",
    "from sklearn.feature_extraction.text import CountVectorizer\n",
    "count_vect = CountVectorizer()\n",
    "X_train_counts = count_vect.fit_transform(data)\n",
    "X_train_counts.indices\n",
    "#dir(X_train_counts)"
   ]
  },
  {
   "cell_type": "code",
   "execution_count": 37,
   "metadata": {},
   "outputs": [
    {
     "name": "stdout",
     "output_type": "stream",
     "text": [
      "done..\n"
     ]
    }
   ],
   "source": [
    "import json\n",
    "def to_processed_csv():\n",
    "    csv_file_path = '/home/ubuntu/DEEPL/_playground/sample_data/nlp_out.csv'\n",
    "    df = pd.read_csv(csv_file_path, header = 0)\n",
    "    df\n",
    "    # Convert json string columns to json\n",
    "    df[df.filter(like=\"_j\").columns] = df.filter(like=\"_j\").applymap(\n",
    "        lambda x : json.loads(x)\n",
    "    )\n",
    "    # Change column names\n",
    "    for v in df.filter(like=\"_j\"):\n",
    "        df = df.rename(columns = {v : '_'.join(v.split('_')[:-1])})\n",
    "\n",
    "    df = df[df['twodim'].notnull()][['twodim','excerpt']]\n",
    "    df = df.assign(\n",
    "        sector=df['twodim'].apply(lambda x: x[0]['sector']),\n",
    "        subsector=df['twodim'].apply(lambda x: x[0]['subsectors'][0] if x[0]['subsectors'] else None)\n",
    "    )\n",
    "    df = df[[\"sector\", \"subsector\", \"excerpt\"]]\n",
    "    df.to_csv('sample_data/processed_sectors_subsectors.csv')\n",
    "    print('done..')\n",
    "    return df\n",
    "df = to_processed_csv()\n"
   ]
  },
  {
   "cell_type": "code",
   "execution_count": 5,
   "metadata": {},
   "outputs": [],
   "source": [
    "from helpers.common import (\n",
    "    rm_punc_not_nums, rm_punc_not_nums_list,\n",
    "    rm_stop_words_txt, rm_stop_words_txt_list,\n",
    "    remove_punc_and_nums,\n",
    "    translate_to_english_txt,\n",
    "    compose\n",
    ")\n",
    "from nltk.stem.porter import PorterStemmer\n",
    "import random\n",
    "\n",
    "from topic_modeling.keywords_extraction import get_key_ngrams\n",
    "\n",
    "from helpers.functional import curried_map, curried_filter, curried_zip\n",
    "\n",
    "from sklearn.feature_extraction.text import CountVectorizer\n",
    "\n",
    "from sklearn.feature_extraction.text import TfidfTransformer\n",
    "\n",
    "from sklearn.naive_bayes import MultinomialNB\n",
    "from sklearn.pipeline import Pipeline\n",
    "\n",
    "from nltk.stem.snowball import SnowballStemmer\n",
    "from sklearn.linear_model import SGDClassifier\n",
    "\n",
    "\n",
    "df = pd.read_csv('sample_data/processed_sectors_subsectors.csv')\n",
    "\n",
    "rm_stop_list = curried_map(rm_stop_words_txt)\n",
    "rm_punc_list = curried_map(rm_punc_not_nums)\n",
    "rm_punc_nums_list = curried_map(remove_punc_and_nums)\n",
    "lower_list = curried_map(str.lower)\n",
    "\n",
    "composed_list_processor= compose(remove_punc_and_nums, rm_stop_words_txt, ' '.join, str.split, str.lower)\n",
    "punc_nums_preprocessor = compose(composed_list_processor, str)\n",
    "\n",
    "stemmer = SnowballStemmer(\"english\", ignore_stopwords=True)\n",
    "class StemmedCountVectorizer(CountVectorizer):\n",
    "    def build_analyzer(self):\n",
    "        analyzer = super(CountVectorizer, self).build_analyzer()\n",
    "        return lambda doc: ([stemmer.stem(w) for w in analyzer(doc)])\n",
    "    \n",
    "# procecss the data\n",
    "processed = df.assign(excerpt = df['excerpt'].apply(punc_nums_preprocessor))"
   ]
  },
  {
   "cell_type": "code",
   "execution_count": 6,
   "metadata": {},
   "outputs": [],
   "source": [
    "### shuffle data and get test/train sets\n",
    "\n",
    "processed = processed.sample(frac=1)\n",
    "l = len(processed)\n",
    "one_fourth = int(l/4)\n",
    "train = processed['excerpt'][one_fourth:]\n",
    "test = processed['excerpt'][:one_fourth]\n",
    "target = processed['sector'][one_fourth:]\n",
    "test_target = processed['sector'][:one_fourth]"
   ]
  },
  {
   "cell_type": "code",
   "execution_count": 7,
   "metadata": {},
   "outputs": [
    {
     "data": {
      "text/plain": [
       "0.7028668610301263"
      ]
     },
     "execution_count": 7,
     "metadata": {},
     "output_type": "execute_result"
    }
   ],
   "source": [
    "### NAIVE BAYES\n",
    "text_clf = Pipeline([\n",
    "    ('vect', StemmedCountVectorizer(ngram_range=(1,2))), \n",
    "    ('tfidf', TfidfTransformer(use_idf=False)), \n",
    "    ('clf', MultinomialNB(alpha=0.01, fit_prior=False))\n",
    "])\n",
    "\n",
    "text_clf = text_clf.fit(train, target)\n",
    "\n",
    "predicted = text_clf.predict(test)\n",
    "np.mean(predicted == test_target)"
   ]
  },
  {
   "cell_type": "code",
   "execution_count": 20,
   "metadata": {},
   "outputs": [
    {
     "name": "stdout",
     "output_type": "stream",
     "text": [
      "['__abstractmethods__', '__class__', '__delattr__', '__dict__', '__dir__', '__doc__', '__eq__', '__format__', '__ge__', '__getattribute__', '__getstate__', '__gt__', '__hash__', '__init__', '__init_subclass__', '__le__', '__lt__', '__module__', '__ne__', '__new__', '__reduce__', '__reduce_ex__', '__repr__', '__setattr__', '__setstate__', '__sizeof__', '__str__', '__subclasshook__', '__weakref__', '_abc_cache', '_abc_negative_cache', '_abc_negative_cache_version', '_abc_registry', '_estimator_type', '_final_estimator', '_fit', '_get_param_names', '_get_params', '_inverse_transform', '_pairwise', '_replace_estimator', '_set_params', '_transform', '_validate_names', '_validate_steps', 'classes_', 'decision_function', 'fit', 'fit_predict', 'fit_transform', 'get_params', 'inverse_transform', 'memory', 'named_steps', 'predict', 'predict_log_proba', 'predict_proba', 'score', 'set_params', 'steps', 'transform']\n"
     ]
    },
    {
     "data": {
      "text/plain": [
       "[('Agriculture', 0.0032521529988894012),\n",
       " ('Cross', 0.1624770439474284),\n",
       " ('Education', 0.032109892244252231),\n",
       " ('Food', 0.01820672043123105),\n",
       " ('Health', 0.34398549930969424),\n",
       " ('Livelihood', 0.010804719440560875),\n",
       " ('Logistic', 0.031000725551262605),\n",
       " ('NFI', 0.020517132188712393),\n",
       " ('Nutrition', 0.0060158477433009091),\n",
       " ('Protection', 0.057966300705590959),\n",
       " ('Shelter', 0.22084032774184514),\n",
       " ('WASH', 0.092823637697232883)]"
      ]
     },
     "execution_count": 20,
     "metadata": {},
     "output_type": "execute_result"
    }
   ],
   "source": [
    "print(dir(text_clf))\n",
    "d = \"Hospitals being destroyed\"\n",
    "probs = text_clf.predict_proba([d])\n",
    "classes = text_clf.classes_\n",
    "list(zip(classes, probs[0]))"
   ]
  },
  {
   "cell_type": "code",
   "execution_count": 14,
   "metadata": {},
   "outputs": [
    {
     "name": "stderr",
     "output_type": "stream",
     "text": [
      "/home/ubuntu/DEEPL/.env/lib/python3.5/site-packages/sklearn/linear_model/stochastic_gradient.py:117: DeprecationWarning: n_iter parameter is deprecated in 0.19 and will be removed in 0.21. Use max_iter and tol instead.\n",
      "  DeprecationWarning)\n"
     ]
    },
    {
     "data": {
      "text/plain": [
       "0.72376093294460642"
      ]
     },
     "execution_count": 14,
     "metadata": {},
     "output_type": "execute_result"
    }
   ],
   "source": [
    "## SVM\n",
    "text_clf_svm = Pipeline([('vect', CountVectorizer(stop_words=\"english\")), ('tfidf', TfidfTransformer(use_idf=False)),\n",
    "                         ('clf-svm', SGDClassifier(loss='hinge', penalty='l2',alpha=1e-4, n_iter=15, random_state=43))])\n",
    "\n",
    "text_clf_svm = text_clf_svm.fit(train, target)\n",
    "predicted_svm = text_clf_svm.predict(test)\n",
    "np.mean(predicted_svm == test_target)"
   ]
  },
  {
   "cell_type": "code",
   "execution_count": 8,
   "metadata": {},
   "outputs": [
    {
     "name": "stdout",
     "output_type": "stream",
     "text": [
      "GridSearchCV(cv=None, error_score='raise',\n",
      "       estimator=Pipeline(memory=None,\n",
      "     steps=[('vect', CountVectorizer(analyzer='word', binary=False, decode_error='strict',\n",
      "        dtype=<class 'numpy.int64'>, encoding='utf-8', input='content',\n",
      "        lowercase=True, max_df=1.0, max_features=None, min_df=1,\n",
      "        ngram_range=(1, 1), preprocessor=None, stop_words='english',\n",
      "        ...inear_tf=False, use_idf=True)), ('clf', MultinomialNB(alpha=1.0, class_prior=None, fit_prior=True))]),\n",
      "       fit_params=None, iid=True, n_jobs=-1,\n",
      "       param_grid={'vect__ngram_range': [(1, 1), (1, 2)], 'tfidf__use_idf': (True, False), 'clf__alpha': (0.01, 0.001)},\n",
      "       pre_dispatch='2*n_jobs', refit=True, return_train_score='warn',\n",
      "       scoring=None, verbose=0)\n"
     ]
    }
   ],
   "source": [
    "# get accurate parameters\n",
    "from sklearn.model_selection import GridSearchCV\n",
    "parameters = {'vect__ngram_range': [(1, 1), (1, 2)], 'tfidf__use_idf': (True, False), 'clf__alpha': (1e-2, 1e-3)}\n",
    "\n",
    "# THIS MAKES MY COMPUTER HANG\n",
    "gs_clf = GridSearchCV(text_clf, parameters, n_jobs=-1)\n",
    "gs_clf = gs_clf.fit(train, target)\n",
    "print(gs_clf)"
   ]
  },
  {
   "cell_type": "code",
   "execution_count": 9,
   "metadata": {},
   "outputs": [
    {
     "name": "stdout",
     "output_type": "stream",
     "text": [
      "0.681457489879\n",
      "{'vect__ngram_range': (1, 2), 'tfidf__use_idf': False, 'clf__alpha': 0.01}\n"
     ]
    }
   ],
   "source": [
    "print(gs_clf.best_score_)\n",
    "print(gs_clf.best_params_)\n"
   ]
  },
  {
   "cell_type": "code",
   "execution_count": null,
   "metadata": {},
   "outputs": [],
   "source": [
    "parameters_svm = {'vect__ngram_range': [(1, 1), (1, 2)], 'tfidf__use_idf': (True, False),'clf-svm__alpha': (1e-2, 1e-3)}\n",
    "\n",
    "gs_clf_svm = GridSearchCV(text_clf_svm, parameters_svm, n_jobs=-1)\n",
    "gs_clf_svm = gs_clf_svm.fit(train, target)\n",
    "\n",
    "print(gs_clf_svm.best_score_)\n",
    "print(gs_clf_svm.best_params_)"
   ]
  },
  {
   "cell_type": "code",
   "execution_count": 1,
   "metadata": {},
   "outputs": [],
   "source": [
    "import sys\n",
    "sys.path.append('/home/bibek/projects/DEEPL')"
   ]
  },
  {
   "cell_type": "code",
   "execution_count": 6,
   "metadata": {},
   "outputs": [],
   "source": [
    "from classifier.helpers import get_train_test_data\n",
    "\n",
    "(train, target), (test, test_target) = get_train_test_data('/home/bibek/projects/DEEPL/_playground/sample_data/processed_sectors_subsectors.csv')"
   ]
  },
  {
   "cell_type": "code",
   "execution_count": 7,
   "metadata": {},
   "outputs": [],
   "source": [
    "from classifier.NaiveBayesSKlearn import SKNaiveBayesClassifier\n",
    "clf = SKNaiveBayesClassifier.new(train=train, target=target)"
   ]
  },
  {
   "cell_type": "code",
   "execution_count": 12,
   "metadata": {},
   "outputs": [
    {
     "ename": "AppRegistryNotReady",
     "evalue": "Apps aren't loaded yet.",
     "output_type": "error",
     "traceback": [
      "\u001b[0;31m---------------------------------------------------------------------------\u001b[0m",
      "\u001b[0;31mAppRegistryNotReady\u001b[0m                       Traceback (most recent call last)",
      "\u001b[0;32m<ipython-input-12-73eb87fffbdf>\u001b[0m in \u001b[0;36m<module>\u001b[0;34m()\u001b[0m\n\u001b[1;32m      2\u001b[0m \u001b[0;32mfrom\u001b[0m \u001b[0mdjango\u001b[0m\u001b[0;34m.\u001b[0m\u001b[0mconf\u001b[0m \u001b[0;32mimport\u001b[0m \u001b[0msettings\u001b[0m\u001b[0;34m\u001b[0m\u001b[0m\n\u001b[1;32m      3\u001b[0m \u001b[0;31m#settings.configure()\u001b[0m\u001b[0;34m\u001b[0m\u001b[0;34m\u001b[0m\u001b[0m\n\u001b[0;32m----> 4\u001b[0;31m \u001b[0;32mfrom\u001b[0m \u001b[0mclassifier\u001b[0m\u001b[0;34m.\u001b[0m\u001b[0mmodels\u001b[0m \u001b[0;32mimport\u001b[0m \u001b[0mClassifierModel\u001b[0m\u001b[0;34m\u001b[0m\u001b[0m\n\u001b[0m",
      "\u001b[0;32m~/projects/DEEPL/classifier/models.py\u001b[0m in \u001b[0;36m<module>\u001b[0;34m()\u001b[0m\n\u001b[1;32m      4\u001b[0m \u001b[0;32mfrom\u001b[0m \u001b[0mdjango\u001b[0m\u001b[0;34m.\u001b[0m\u001b[0mutils\u001b[0m \u001b[0;32mimport\u001b[0m \u001b[0mtimezone\u001b[0m\u001b[0;34m\u001b[0m\u001b[0m\n\u001b[1;32m      5\u001b[0m \u001b[0;34m\u001b[0m\u001b[0m\n\u001b[0;32m----> 6\u001b[0;31m \u001b[0;32mclass\u001b[0m \u001b[0mBaseModel\u001b[0m\u001b[0;34m(\u001b[0m\u001b[0mmodels\u001b[0m\u001b[0;34m.\u001b[0m\u001b[0mModel\u001b[0m\u001b[0;34m)\u001b[0m\u001b[0;34m:\u001b[0m\u001b[0;34m\u001b[0m\u001b[0m\n\u001b[0m\u001b[1;32m      7\u001b[0m     \u001b[0;34m\"\"\"BaseModel for all other models\"\"\"\u001b[0m\u001b[0;34m\u001b[0m\u001b[0m\n\u001b[1;32m      8\u001b[0m     \u001b[0midx\u001b[0m \u001b[0;34m=\u001b[0m \u001b[0mmodels\u001b[0m\u001b[0;34m.\u001b[0m\u001b[0mUUIDField\u001b[0m\u001b[0;34m(\u001b[0m\u001b[0munique\u001b[0m\u001b[0;34m=\u001b[0m\u001b[0;32mTrue\u001b[0m\u001b[0;34m,\u001b[0m \u001b[0mdefault\u001b[0m\u001b[0;34m=\u001b[0m\u001b[0muuid\u001b[0m\u001b[0;34m.\u001b[0m\u001b[0muuid4\u001b[0m\u001b[0;34m,\u001b[0m \u001b[0meditable\u001b[0m\u001b[0;34m=\u001b[0m\u001b[0;32mFalse\u001b[0m\u001b[0;34m)\u001b[0m\u001b[0;34m\u001b[0m\u001b[0m\n",
      "\u001b[0;32m~/projects/DEEPL/.env/lib/python3.6/site-packages/django/db/models/base.py\u001b[0m in \u001b[0;36m__new__\u001b[0;34m(cls, name, bases, attrs)\u001b[0m\n\u001b[1;32m    108\u001b[0m \u001b[0;34m\u001b[0m\u001b[0m\n\u001b[1;32m    109\u001b[0m         \u001b[0;31m# Look for an application configuration to attach the model to.\u001b[0m\u001b[0;34m\u001b[0m\u001b[0;34m\u001b[0m\u001b[0m\n\u001b[0;32m--> 110\u001b[0;31m         \u001b[0mapp_config\u001b[0m \u001b[0;34m=\u001b[0m \u001b[0mapps\u001b[0m\u001b[0;34m.\u001b[0m\u001b[0mget_containing_app_config\u001b[0m\u001b[0;34m(\u001b[0m\u001b[0mmodule\u001b[0m\u001b[0;34m)\u001b[0m\u001b[0;34m\u001b[0m\u001b[0m\n\u001b[0m\u001b[1;32m    111\u001b[0m \u001b[0;34m\u001b[0m\u001b[0m\n\u001b[1;32m    112\u001b[0m         \u001b[0;32mif\u001b[0m \u001b[0mgetattr\u001b[0m\u001b[0;34m(\u001b[0m\u001b[0mmeta\u001b[0m\u001b[0;34m,\u001b[0m \u001b[0;34m'app_label'\u001b[0m\u001b[0;34m,\u001b[0m \u001b[0;32mNone\u001b[0m\u001b[0;34m)\u001b[0m \u001b[0;32mis\u001b[0m \u001b[0;32mNone\u001b[0m\u001b[0;34m:\u001b[0m\u001b[0;34m\u001b[0m\u001b[0m\n",
      "\u001b[0;32m~/projects/DEEPL/.env/lib/python3.6/site-packages/django/apps/registry.py\u001b[0m in \u001b[0;36mget_containing_app_config\u001b[0;34m(self, object_name)\u001b[0m\n\u001b[1;32m    245\u001b[0m         \u001b[0mReturns\u001b[0m \u001b[0;32mNone\u001b[0m \u001b[0;32mif\u001b[0m \u001b[0mthe\u001b[0m \u001b[0mobject\u001b[0m \u001b[0misn\u001b[0m\u001b[0;31m'\u001b[0m\u001b[0mt\u001b[0m \u001b[0;32min\u001b[0m \u001b[0many\u001b[0m \u001b[0mregistered\u001b[0m \u001b[0mapp\u001b[0m \u001b[0mconfig\u001b[0m\u001b[0;34m.\u001b[0m\u001b[0;34m\u001b[0m\u001b[0m\n\u001b[1;32m    246\u001b[0m         \"\"\"\n\u001b[0;32m--> 247\u001b[0;31m         \u001b[0mself\u001b[0m\u001b[0;34m.\u001b[0m\u001b[0mcheck_apps_ready\u001b[0m\u001b[0;34m(\u001b[0m\u001b[0;34m)\u001b[0m\u001b[0;34m\u001b[0m\u001b[0m\n\u001b[0m\u001b[1;32m    248\u001b[0m         \u001b[0mcandidates\u001b[0m \u001b[0;34m=\u001b[0m \u001b[0;34m[\u001b[0m\u001b[0;34m]\u001b[0m\u001b[0;34m\u001b[0m\u001b[0m\n\u001b[1;32m    249\u001b[0m         \u001b[0;32mfor\u001b[0m \u001b[0mapp_config\u001b[0m \u001b[0;32min\u001b[0m \u001b[0mself\u001b[0m\u001b[0;34m.\u001b[0m\u001b[0mapp_configs\u001b[0m\u001b[0;34m.\u001b[0m\u001b[0mvalues\u001b[0m\u001b[0;34m(\u001b[0m\u001b[0;34m)\u001b[0m\u001b[0;34m:\u001b[0m\u001b[0;34m\u001b[0m\u001b[0m\n",
      "\u001b[0;32m~/projects/DEEPL/.env/lib/python3.6/site-packages/django/apps/registry.py\u001b[0m in \u001b[0;36mcheck_apps_ready\u001b[0;34m(self)\u001b[0m\n\u001b[1;32m    123\u001b[0m         \"\"\"\n\u001b[1;32m    124\u001b[0m         \u001b[0;32mif\u001b[0m \u001b[0;32mnot\u001b[0m \u001b[0mself\u001b[0m\u001b[0;34m.\u001b[0m\u001b[0mapps_ready\u001b[0m\u001b[0;34m:\u001b[0m\u001b[0;34m\u001b[0m\u001b[0m\n\u001b[0;32m--> 125\u001b[0;31m             \u001b[0;32mraise\u001b[0m \u001b[0mAppRegistryNotReady\u001b[0m\u001b[0;34m(\u001b[0m\u001b[0;34m\"Apps aren't loaded yet.\"\u001b[0m\u001b[0;34m)\u001b[0m\u001b[0;34m\u001b[0m\u001b[0m\n\u001b[0m\u001b[1;32m    126\u001b[0m \u001b[0;34m\u001b[0m\u001b[0m\n\u001b[1;32m    127\u001b[0m     \u001b[0;32mdef\u001b[0m \u001b[0mcheck_models_ready\u001b[0m\u001b[0;34m(\u001b[0m\u001b[0mself\u001b[0m\u001b[0;34m)\u001b[0m\u001b[0;34m:\u001b[0m\u001b[0;34m\u001b[0m\u001b[0m\n",
      "\u001b[0;31mAppRegistryNotReady\u001b[0m: Apps aren't loaded yet."
     ]
    }
   ],
   "source": [
    "clf.classify_as_label_probs([\"Health is wealth\",\"children are the pillars of the nation\"])\n",
    "from django.conf import settings\n",
    "#settings.configure()\n",
    "from classifier.models import ClassifierModel"
   ]
  }
 ],
 "metadata": {
  "kernelspec": {
   "display_name": "Python 3",
   "language": "python",
   "name": "python3"
  },
  "language_info": {
   "codemirror_mode": {
    "name": "ipython",
    "version": 3
   },
   "file_extension": ".py",
   "mimetype": "text/x-python",
   "name": "python",
   "nbconvert_exporter": "python",
   "pygments_lexer": "ipython3",
   "version": "3.6.4"
  }
 },
 "nbformat": 4,
 "nbformat_minor": 2
}
