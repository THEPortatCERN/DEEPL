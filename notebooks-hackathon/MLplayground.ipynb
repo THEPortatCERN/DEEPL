{
 "cells": [
  {
   "cell_type": "code",
   "execution_count": 1,
   "metadata": {},
   "outputs": [],
   "source": [
    "import pickle\n",
    "vectors50, labels = pickle.load(open('vectors_tfidf_dim50.pkl', 'rb'))\n",
    "vectors100, labels = pickle.load(open('vectors_tfidf_dim100.pkl', 'rb'))\n",
    "#vectors, labels = pickle.load(open('vectors_doc2vec_dim50.pkl', 'rb'))\n",
    "dictionary, labels_text = pickle.load(open('dictionary_labels_text.pkl', 'rb'))\n",
    "\n"
   ]
  },
  {
   "cell_type": "code",
   "execution_count": 2,
   "metadata": {},
   "outputs": [],
   "source": [
    "import numpy as np"
   ]
  },
  {
   "cell_type": "markdown",
   "metadata": {},
   "source": [
    "### Code for train and eval models"
   ]
  },
  {
   "cell_type": "code",
   "execution_count": 3,
   "metadata": {},
   "outputs": [
    {
     "name": "stdout",
     "output_type": "stream",
     "text": [
      "Counter({4: 3178, 9: 3167, 3: 2942, 10: 1388, 11: 1259, 5: 810, 2: 716, 8: 705, 1: 652, 0: 455, 6: 314, 7: 314})\n"
     ]
    }
   ],
   "source": [
    "from collections import Counter\n",
    "alllabels=[]\n",
    "for x in labels:\n",
    "    alllabels.extend(x)\n",
    "labels_count=Counter(alllabels)\n",
    "print (labels_count)"
   ]
  },
  {
   "cell_type": "code",
   "execution_count": 4,
   "metadata": {},
   "outputs": [
    {
     "data": {
      "text/plain": [
       "15900"
      ]
     },
     "execution_count": 4,
     "metadata": {},
     "output_type": "execute_result"
    }
   ],
   "source": [
    "len(alllabels)"
   ]
  },
  {
   "cell_type": "code",
   "execution_count": 5,
   "metadata": {},
   "outputs": [
    {
     "name": "stdout",
     "output_type": "stream",
     "text": [
      "[10  9]\n"
     ]
    }
   ],
   "source": [
    "from sklearn.svm import SVC\n",
    "from sklearn.naive_bayes import GaussianNB\n",
    "from sklearn.dummy import DummyClassifier\n",
    "from sklearn.tree import DecisionTreeClassifier\n",
    "from sklearn.linear_model import LogisticRegression\n",
    "from sklearn.ensemble import VotingClassifier, RandomForestClassifier\n",
    "from xgboost.sklearn import XGBClassifier  \n",
    "\n",
    "\n",
    "def make_singlelabel(Y):\n",
    "    singlelabel_Y = []\n",
    "    for y in Y:\n",
    "        if len(y)>1:\n",
    "            min_yitem_count = 1000000000\n",
    "            min_yitem = -1\n",
    "            for yitem in y:\n",
    "                if min_yitem_count > labels_count[yitem]:\n",
    "                    min_yitem = yitem\n",
    "                    min_yitem_count = labels_count[yitem]\n",
    "            singlelabel_Y.append(min_yitem)\n",
    "        else:\n",
    "            singlelabel_Y.append(y[0])\n",
    "    return np.array(singlelabel_Y)\n",
    "\n",
    "print (make_singlelabel([list([4,10]), list([9])]))\n",
    "                  \n",
    "def train(X, Y, modelname):\n",
    "    y=make_singlelabel(Y)\n",
    "    #y=lb.transform(y)\n",
    "    \n",
    "    if modelname=='svc':\n",
    "        clf = SVC(kernel='sigmoid', gamma='auto')\n",
    "    elif modelname=='nb':\n",
    "        clf = GaussianNB()\n",
    "    elif modelname=='dummy':\n",
    "        clf = DummyClassifier(strategy='stratified')\n",
    "    elif modelname=='dtree':\n",
    "        clf = DecisionTreeClassifier()\n",
    "    elif modelname=='forest':\n",
    "        clf = RandomForestClassifier(n_estimators=100, random_state=1)\n",
    "    elif modelname=='regression':\n",
    "        clf = LogisticRegression()#multi_class='multinomial'\n",
    "    elif modelname=='xgb':\n",
    "        clf = XGBClassifier(n_estimators=300, objective='multi:softmax')#multi_class='multinomial'\n",
    "    elif modelname=='ensemble':\n",
    "        #clf1 = SVC(kernel='sigmoid', gamma='auto')\n",
    "        #clf2 = GaussianNB()\n",
    "        clf5 = XGBClassifier(n_estimators=300, objective='multi:softmax')\n",
    "        clf6 = RandomForestClassifier(n_estimators=100, random_state=1)\n",
    "        #clf4 = LogisticRegression()#multi_class='multinomial'\n",
    "        clf = VotingClassifier(estimators=[('xgb', clf5), ('forest', clf6)], voting='hard')#('nb', clf2), ('regression', clf4)\n",
    "    else:\n",
    "        print ('ERROR!')\n",
    "    clf.fit(X, y) \n",
    "    \n",
    "    return clf\n",
    "\n",
    "def predict(model, X, Y):\n",
    "    y=make_singlelabel(Y)\n",
    "    #y=lb.transform(y)\n",
    "    \n",
    "    yhat=model.predict(X)\n",
    "    return y, yhat\n",
    "\n"
   ]
  },
  {
   "cell_type": "code",
   "execution_count": 6,
   "metadata": {},
   "outputs": [],
   "source": [
    "#from sklearn import preprocessing\n",
    "#lb = preprocessing.LabelBinarizer()\n",
    "#lb.fit(make_singlelabel(labels))\n"
   ]
  },
  {
   "cell_type": "markdown",
   "metadata": {},
   "source": [
    "### Code for CV"
   ]
  },
  {
   "cell_type": "code",
   "execution_count": 7,
   "metadata": {},
   "outputs": [],
   "source": [
    "evalres100_folds = {}\n",
    "evalres50_folds = {}\n"
   ]
  },
  {
   "cell_type": "code",
   "execution_count": 15,
   "metadata": {},
   "outputs": [
    {
     "name": "stdout",
     "output_type": "stream",
     "text": [
      "KFold(n_splits=5, random_state=18, shuffle=True)\n",
      "nb\n",
      "GaussianNB(priors=None, var_smoothing=1e-09)\n",
      "[(array([2, 5, 3, ..., 9, 4, 3]), array([2, 5, 5, ..., 9, 6, 3]))]\n",
      "GaussianNB(priors=None, var_smoothing=1e-09)\n",
      "[(array([2, 5, 3, ..., 9, 4, 3]), array([2, 5, 5, ..., 1, 9, 3]))]\n",
      "forest\n",
      "RandomForestClassifier(bootstrap=True, class_weight=None, criterion='gini',\n",
      "            max_depth=None, max_features='auto', max_leaf_nodes=None,\n",
      "            min_impurity_decrease=0.0, min_impurity_split=None,\n",
      "            min_samples_leaf=1, min_samples_split=2,\n",
      "            min_weight_fraction_leaf=0.0, n_estimators=100, n_jobs=None,\n",
      "            oob_score=False, random_state=1, verbose=0, warm_start=False)\n",
      "[(array([2, 5, 3, ..., 9, 4, 3]), array([ 2,  3,  3, ..., 10,  4,  3]))]\n",
      "RandomForestClassifier(bootstrap=True, class_weight=None, criterion='gini',\n",
      "            max_depth=None, max_features='auto', max_leaf_nodes=None,\n",
      "            min_impurity_decrease=0.0, min_impurity_split=None,\n",
      "            min_samples_leaf=1, min_samples_split=2,\n",
      "            min_weight_fraction_leaf=0.0, n_estimators=100, n_jobs=None,\n",
      "            oob_score=False, random_state=1, verbose=0, warm_start=False)\n",
      "[(array([2, 5, 3, ..., 9, 4, 3]), array([2, 3, 3, ..., 9, 4, 3]))]\n",
      "done!\n"
     ]
    }
   ],
   "source": [
    "\n",
    "    \n",
    "from sklearn.model_selection import KFold\n",
    "kf = KFold(n_splits=5, shuffle=True, random_state=18) # Because we are Pier-18!\n",
    "\n",
    "print(kf)  \n",
    "for modelname in ['nb','forest']:#['nb','regression','ensemble','dummy']:\n",
    "    print (modelname)\n",
    "    evalres50_folds[modelname]=[]\n",
    "    evalres100_folds[modelname]=[]\n",
    "    for train_index, test_index in kf.split(vectors50):\n",
    "        X_train, X_test = vectors50[train_index], vectors50[test_index]\n",
    "        y_train, y_test = labels[train_index], labels[test_index]\n",
    "        model = train(X_train, y_train, modelname)\n",
    "        print (model)\n",
    "        evalres50_folds[modelname].append(predict(model, X_test, y_test))\n",
    "        print (evalres50_folds[modelname])\n",
    "        break\n",
    "        \n",
    "    for train_index, test_index in kf.split(vectors100):\n",
    "        X_train, X_test = vectors100[train_index], vectors100[test_index]\n",
    "        y_train, y_test = labels[train_index], labels[test_index]\n",
    "        model = train(X_train, y_train, modelname)\n",
    "        print (model)\n",
    "        evalres100_folds[modelname].append(predict(model, X_test, y_test))\n",
    "        print (evalres100_folds[modelname])\n",
    "        \n",
    "        break\n",
    "    \n",
    "print ('done!')"
   ]
  },
  {
   "cell_type": "code",
   "execution_count": 111,
   "metadata": {},
   "outputs": [
    {
     "data": {
      "text/plain": [
       "array([[-1.00706217e-01,  5.67078027e-02,  1.94087888e-03, ...,\n",
       "        -8.45242803e-03,  2.32977395e-02,  1.55347247e-02],\n",
       "       [-2.54286596e-02,  8.67178293e-02,  4.56389482e-03, ...,\n",
       "        -7.78614280e-02,  1.48503103e-02,  1.39412289e-02],\n",
       "       [ 1.48575566e-01,  8.62192256e-02,  9.42250185e-03, ...,\n",
       "         8.40654374e-03, -3.66209641e-03,  2.33107961e-02],\n",
       "       ...,\n",
       "       [-2.69833814e-03, -1.58833089e-04, -7.03830139e-02, ...,\n",
       "         5.88438753e-03, -1.79958700e-02,  6.02105176e-03],\n",
       "       [-5.97262809e-03, -4.35439967e-02, -4.81422765e-02, ...,\n",
       "         5.21370585e-03,  1.98452499e-02,  7.80656016e-03],\n",
       "       [ 2.55597709e-01,  9.45044557e-02, -6.24715081e-03, ...,\n",
       "        -1.00710155e-02, -1.11492637e-02,  1.16715329e-02]])"
      ]
     },
     "execution_count": 111,
     "metadata": {},
     "output_type": "execute_result"
    }
   ],
   "source": [
    "X_train"
   ]
  },
  {
   "cell_type": "code",
   "execution_count": 16,
   "metadata": {
    "scrolled": false
   },
   "outputs": [
    {
     "name": "stdout",
     "output_type": "stream",
     "text": [
      "nb\n",
      "              precision    recall  f1-score   support\n",
      "\n",
      "           0       0.31      0.50      0.38        84\n",
      "           1       0.12      0.12      0.12       112\n",
      "           2       0.78      0.73      0.75       154\n",
      "           3       0.74      0.52      0.61       585\n",
      "           4       0.81      0.64      0.71       643\n",
      "           5       0.28      0.15      0.20       180\n",
      "           6       0.13      0.60      0.21        58\n",
      "           7       0.39      0.39      0.39        67\n",
      "           8       0.67      0.67      0.67       140\n",
      "           9       0.58      0.80      0.67       641\n",
      "          10       0.63      0.53      0.57       268\n",
      "          11       0.78      0.55      0.65       239\n",
      "\n",
      "   micro avg       0.58      0.58      0.58      3171\n",
      "   macro avg       0.52      0.52      0.50      3171\n",
      "weighted avg       0.64      0.58      0.59      3171\n",
      "\n",
      "forest\n",
      "              precision    recall  f1-score   support\n",
      "\n",
      "           0       0.40      0.21      0.28        84\n",
      "           1       0.35      0.12      0.17       112\n",
      "           2       0.85      0.81      0.83       154\n",
      "           3       0.68      0.85      0.75       585\n",
      "           4       0.81      0.83      0.82       643\n",
      "           5       0.44      0.10      0.16       180\n",
      "           6       1.00      0.09      0.16        58\n",
      "           7       0.92      0.36      0.52        67\n",
      "           8       0.81      0.75      0.78       140\n",
      "           9       0.69      0.87      0.77       641\n",
      "          10       0.57      0.67      0.61       268\n",
      "          11       0.75      0.73      0.74       239\n",
      "\n",
      "   micro avg       0.71      0.71      0.71      3171\n",
      "   macro avg       0.69      0.53      0.55      3171\n",
      "weighted avg       0.70      0.71      0.68      3171\n",
      "\n",
      "nb\n",
      "              precision    recall  f1-score   support\n",
      "\n",
      "           0       0.33      0.46      0.39        84\n",
      "           1       0.17      0.18      0.17       112\n",
      "           2       0.80      0.73      0.76       154\n",
      "           3       0.73      0.55      0.63       585\n",
      "           4       0.75      0.63      0.68       643\n",
      "           5       0.32      0.17      0.22       180\n",
      "           6       0.21      0.53      0.31        58\n",
      "           7       0.45      0.52      0.48        67\n",
      "           8       0.64      0.72      0.68       140\n",
      "           9       0.53      0.77      0.63       641\n",
      "          10       0.67      0.57      0.62       268\n",
      "          11       0.74      0.54      0.62       239\n",
      "\n",
      "   micro avg       0.59      0.59      0.59      3171\n",
      "   macro avg       0.53      0.53      0.52      3171\n",
      "weighted avg       0.62      0.59      0.59      3171\n",
      "\n",
      "forest\n",
      "              precision    recall  f1-score   support\n",
      "\n",
      "           0       0.52      0.27      0.36        84\n",
      "           1       0.43      0.09      0.15       112\n",
      "           2       0.85      0.80      0.83       154\n",
      "           3       0.67      0.85      0.75       585\n",
      "           4       0.81      0.83      0.82       643\n",
      "           5       0.53      0.10      0.17       180\n",
      "           6       0.71      0.09      0.15        58\n",
      "           7       0.85      0.34      0.49        67\n",
      "           8       0.81      0.75      0.78       140\n",
      "           9       0.69      0.89      0.78       641\n",
      "          10       0.59      0.68      0.63       268\n",
      "          11       0.77      0.70      0.74       239\n",
      "\n",
      "   micro avg       0.71      0.71      0.71      3171\n",
      "   macro avg       0.69      0.53      0.55      3171\n",
      "weighted avg       0.70      0.71      0.68      3171\n",
      "\n"
     ]
    }
   ],
   "source": [
    "# Now evaluate\n",
    "from sklearn.metrics import accuracy_score, classification_report\n",
    "\n",
    "result50={}\n",
    "result100={}\n",
    "for modelname in evalres50_folds:\n",
    "    print (modelname)\n",
    "    for evalres_fold in evalres50_folds[modelname]:\n",
    "        y, yhat = evalres_fold\n",
    "        result50[modelname]=classification_report(y, yhat, output_dict=True)\n",
    "        print (classification_report(y, yhat))\n",
    "        break\n",
    "\n",
    "for modelname in evalres100_folds:\n",
    "    print (modelname)\n",
    "    for evalres_fold in evalres100_folds[modelname]:\n",
    "        y, yhat = evalres_fold\n",
    "        result100[modelname]=classification_report(y, yhat, output_dict=True)\n",
    "        print (classification_report(y, yhat))\n",
    "        break"
   ]
  },
  {
   "cell_type": "code",
   "execution_count": null,
   "metadata": {},
   "outputs": [],
   "source": []
  },
  {
   "cell_type": "code",
   "execution_count": 113,
   "metadata": {},
   "outputs": [
    {
     "name": "stdout",
     "output_type": "stream",
     "text": [
      "nb micro avg 0.5846736045411542\n",
      "forest micro avg 0.7092399873856827\n"
     ]
    },
    {
     "data": {
      "image/png": "[encoded data removed]",
      "text/plain": [
       "<Figure size 576x432 with 1 Axes>"
      ]
     },
     "metadata": {
      "needs_background": "light"
     },
     "output_type": "display_data"
    }
   ],
   "source": [
    "import matplotlib.pyplot as plt\n",
    "\n",
    "fig = plt.figure(figsize=(8,6)) \n",
    "\n",
    "modelname = list(result50.keys())[0]\n",
    "_labelids=[x for x in result50[modelname].keys()][:12]\n",
    "_labeltexts=[]\n",
    "for _lid in _labelids:\n",
    "    _found=False\n",
    "    for _ltext in labels_text:\n",
    "        if str(labels_text[_ltext])==_lid:\n",
    "            _labeltexts.append(_ltext)\n",
    "            _found=True\n",
    "    if not _found:\n",
    "        if _lid == 'micro avg':\n",
    "            _labeltexts.append('Micro Avg')\n",
    "        elif _lid == 'macro avg':\n",
    "            _labeltexts.append('Macro Avg')\n",
    "        elif _lid == 'weighted avg':\n",
    "            _labeltexts.append('Weighted Avg')\n",
    "        else:\n",
    "            _labeltexts.append(_lid)\n",
    "colors={'nb':'gray','forest':'orange'}\n",
    "for modelname in ['nb','forest']:\n",
    "    _res=[result50[modelname][x]['precision'] for x in _labelids]\n",
    "    print (modelname, 'micro avg', result50[modelname]['micro avg']['precision'])\n",
    "        \n",
    "    #plt.scatter(k, scores['test_accuracy'])\n",
    "    plt.scatter(_labeltexts, _res, s=200, color=colors[modelname])\n",
    "\n",
    "    \n",
    "for i in range(len(_labeltexts)):\n",
    "    _res1=result50['nb'][str(i)]['precision']\n",
    "    _res2=result50['forest'][str(i)]['precision']\n",
    "    if _res2>_res1+0.05:\n",
    "        plt.arrow(i, _res1, 0, _res2-_res1-0.05, head_width=0.3, head_length=0.03, fc='k', ec='k', ls=':', lw=1)\n",
    "    else:\n",
    "        plt.arrow(i, _res1, 0, _res2-_res1+0.02, head_width=0.3, head_length=0.03, fc='k', ec='k', ls=':', lw=1)\n",
    "        #x[-n], y[-n],\n",
    "        #                 (x[-n+1]-x[-n])/100., (y[-n+1]-y[-n])/100.,\n",
    "        #                 fc=\"k\", ec=\"k\",\n",
    "        #                 head_width=0.1*linewidth, head_length=0.1*linewidth) \n",
    "    \n",
    "#plt.scatter(k, scores['test_recall_macro'])\n",
    "plt.ylabel(\"Precision\", fontsize=18)\n",
    "#plt.xlabel(\"Class\", fontsize=18)\n",
    "plt.tick_params(axis='both', which='major', labelsize=16)\n",
    "plt.tick_params(axis='both', which='minor', labelsize=12)\n",
    "\n",
    "ax = plt.axes()\n",
    "ax.yaxis.grid(True)\n",
    "#plt.set_xlim(0, max_x)\n",
    "\n",
    "#plt.title(\"10 Folds Cross Validation\")\n",
    "#plt.legend(['f1_weighted', 'Testing Precision', 'Testing Recall'], loc='upper left')\n",
    "plt.xticks(rotation=90)\n",
    "plt.show()"
   ]
  },
  {
   "cell_type": "code",
   "execution_count": 93,
   "metadata": {},
   "outputs": [
    {
     "data": {
      "text/plain": [
       "['0', '1', '2', '3', '4', '5', '6', '7', '8', '9', '10', '11']"
      ]
     },
     "execution_count": 93,
     "metadata": {},
     "output_type": "execute_result"
    }
   ],
   "source": [
    "_labelids"
   ]
  },
  {
   "cell_type": "code",
   "execution_count": 95,
   "metadata": {},
   "outputs": [
    {
     "name": "stdout",
     "output_type": "stream",
     "text": [
      "[455, 652, 716, 2942, 3178, 810, 314, 314, 705, 3167, 1388, 1259]\n"
     ]
    },
    {
     "data": {
      "image/png": "[encoded data removed]",
      "text/plain": [
       "<Figure size 576x432 with 1 Axes>"
      ]
     },
     "metadata": {
      "needs_background": "light"
     },
     "output_type": "display_data"
    }
   ],
   "source": [
    "import matplotlib.pyplot as plt\n",
    "\n",
    "fig = plt.figure(figsize=(8,6)) \n",
    "\n",
    "modelname = list(result50.keys())[0]\n",
    "_labelids=[x for x in result50[modelname].keys()][:12]\n",
    "_labeltexts=[]\n",
    "for _lid in _labelids:\n",
    "    _found=False\n",
    "    for _ltext in labels_text:\n",
    "        if str(labels_text[_ltext])==_lid:\n",
    "            _labeltexts.append(_ltext)\n",
    "            _found=True\n",
    "    if not _found:\n",
    "        if _lid == 'micro avg':\n",
    "            _labeltexts.append('Micro Avg')\n",
    "        elif _lid == 'macro avg':\n",
    "            _labeltexts.append('Macro Avg')\n",
    "        elif _lid == 'weighted avg':\n",
    "            _labeltexts.append('Weighted Avg')\n",
    "        else:\n",
    "            _labeltexts.append(_lid)\n",
    "\n",
    "_res=[labels_count[int(x)] for x in _labelids]\n",
    "print (_res)\n",
    "plt.bar(_labeltexts, _res)\n",
    "    \n",
    "#plt.scatter(k, scores['test_recall_macro'])\n",
    "plt.ylabel(\"Number of Annotated Data\", fontsize=18)\n",
    "#plt.xlabel(\"Class\", fontsize=18)\n",
    "plt.tick_params(axis='both', which='major', labelsize=16)\n",
    "plt.tick_params(axis='both', which='minor', labelsize=12)\n",
    "\n",
    "ax = plt.axes()  \n",
    "ax.yaxis.grid(True)\n",
    "#plt.set_xlim(0, max_x)\n",
    "\n",
    "\n",
    "#plt.title(\"10 Folds Cross Validation\")\n",
    "#plt.legend(['f1_weighted', 'Testing Precision', 'Testing Recall'], loc='upper left')\n",
    "plt.xticks(rotation=90)\n",
    "plt.show()"
   ]
  },
  {
   "cell_type": "code",
   "execution_count": null,
   "metadata": {},
   "outputs": [],
   "source": []
  }
 ],
 "metadata": {
  "kernelspec": {
   "display_name": "Python 3",
   "language": "python",
   "name": "python3"
  },
  "language_info": {
   "codemirror_mode": {
    "name": "ipython",
    "version": 3
   },
   "file_extension": ".py",
   "mimetype": "text/x-python",
   "name": "python",
   "nbconvert_exporter": "python",
   "pygments_lexer": "ipython3",
   "version": "3.7.0"
  }
 },
 "nbformat": 4,
 "nbformat_minor": 2
}
