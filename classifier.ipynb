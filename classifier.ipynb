{
 "cells": [
  {
   "cell_type": "code",
   "execution_count": 1,
   "metadata": {},
   "outputs": [],
   "source": [
    "from core.tasks import process_deep_entries_data\n",
    "from core.helpers.common import (\n",
    "    rm_punc_not_nums, rm_punc_not_nums_list,\n",
    "    rm_stop_words_txt, rm_stop_words_txt_list,\n",
    "    translate_to_english_txt,\n",
    "    compose\n",
    ")\n",
    "from core.feature_selectors import UnigramFeatureSelector, BigramFeatureSelector\n",
    "from core.classifiers.NaiveBayes_classifier import NaiveBayesClassifier\n",
    "import nltk\n",
    "from nltk.stem.snowball import SnowballStemmer\n",
    "from nltk.stem.porter import PorterStemmer\n",
    "import random\n",
    "from nltk.corpus import names, movie_reviews\n",
    "import langid   "
   ]
  },
  {
   "cell_type": "code",
   "execution_count": 16,
   "metadata": {},
   "outputs": [
    {
     "name": "stdout",
     "output_type": "stream",
     "text": [
      "PROCESSING DEEP ENTRIES DATA\n",
      "DONE\n",
      "REMOVING PUNC AND STOP WORDS\n",
      "DONE\n",
      "SHUFFLING DATA\n",
      "DONE\n",
      "TAKING OUT TEST/TRAIN DATA\n",
      "length of training data 17718\n",
      "DONE\n",
      "COUNTING TAG FREQUENCIES in TRAIN DATA\n",
      "{'WASH': 1434, 'Nutrition': 787, 'Cross': 691, 'Shelter': 1626, 'Health': 3359, 'Food': 3077, 'Education': 723, 'Agriculture': 604, 'Logistic': 364, 'Livelihood': 1126, 'NFI': 776, 'Protection': 3151}\n",
      "DONE\n"
     ]
    }
   ],
   "source": [
    "csv_file_path = '_playground/sample_data/nlp_out.csv'\n",
    "\n",
    "print('PROCESSING DEEP ENTRIES DATA')\n",
    "data = process_deep_entries_data(csv_file_path)\n",
    "print('DONE')\n",
    "\n",
    "print('REMOVING PUNC AND STOP WORDS')\n",
    "stemmer = PorterStemmer()\n",
    "rm_punc_and_stop = compose(\n",
    "    rm_punc_not_nums_list,\n",
    "    rm_stop_words_txt_list,\n",
    "    lambda x: list(map(str.lower, x)),\n",
    "    lambda x: list(map(stemmer.stem,x)) # comment this if we don't need stemming\n",
    ")\n",
    "#rm_punc_and_stop = lambda x: x\n",
    "data = [(rm_punc_and_stop(str(ex).split()), l) for (ex, l) in data if langid.classify(str(ex))[0] == 'en']\n",
    "print('DONE')\n",
    "\n",
    "#data = [(list(movie_reviews.words(fileid)), category)\n",
    "#       for category in movie_reviews.categories()\n",
    "#      for fileid in movie_reviews.fileids(category)\n",
    "#]\n",
    "#print(data[0])\n",
    "tags_data = {}\n",
    "for ex, l in data:\n",
    "    tags_data[l] = tags_data.get(l, '') + \" \"+ str(ex)\n",
    "    \n",
    "all_tokenized_documents = list(map(lambda x:x.split(), [v for k, v in tags_data.items()]))\n",
    "\n",
    "print('SHUFFLING DATA')\n",
    "random.shuffle(data)\n",
    "print('DONE')\n",
    "\n",
    "data_len = len(data)\n",
    "test_len = int(data_len * 0.25)\n",
    "\n",
    "print('TAKING OUT TEST/TRAIN DATA')\n",
    "train_data = data[test_len:]\n",
    "print(\"length of training data\", len(train_data))\n",
    "test_data = data[:test_len]\n",
    "print('DONE')\n",
    "\n",
    "print('COUNTING TAG FREQUENCIES in TRAIN DATA')\n",
    "d = {}\n",
    "for ex, l in train_data:\n",
    "    d[l] = d.get(l, 0) + 1\n",
    "print(d)\n",
    "print('DONE')\n"
   ]
  },
  {
   "cell_type": "code",
   "execution_count": 17,
   "metadata": {},
   "outputs": [
    {
     "name": "stdout",
     "output_type": "stream",
     "text": [
      "CREATING FEATURE SELECTOR\n",
      "DONE\n",
      "CREATING CLASSIFIER\n",
      "DONE\n",
      "CALCULATING ACCURACY\n",
      "0.593972231628852\n"
     ]
    }
   ],
   "source": [
    "print('CREATING FEATURE SELECTOR')\n",
    "from core.tf_idf import relevant_terms\n",
    "#most_relevant_terms = list(relevant_terms(all_tokenized_documents))\n",
    "#selector = UnigramFeatureSelector.new(freq_words=most_relevant_terms)\n",
    "selector = UnigramFeatureSelector.new(corpus=data, top=2000) # use top 2000 words\n",
    "print('DONE')\n",
    "\n",
    "# print('CREATING BIGRAM FEATURE SELECTOR')\n",
    "# selector = BigramFeatureSelector.new(corpus=data, top=2000)\n",
    "# selector = DocumentFeatureSelector.new(corpus=data, top=2000)\n",
    "# print('DONE')\n",
    "\n",
    "print('CREATING CLASSIFIER')\n",
    "classifier = NaiveBayesClassifier.new(selector, rm_punc_and_stop, train_data)\n",
    "print('DONE')\n",
    "\n",
    "print('CALCULATING ACCURACY')\n",
    "print(classifier.get_accuracy(test_data))\n",
    "\n",
    "#print('CONFUSION MATRIX')\n",
    "#print(classifier.get_confusion_matrix(test_data))"
   ]
  },
  {
   "cell_type": "code",
   "execution_count": 18,
   "metadata": {},
   "outputs": [
    {
     "name": "stdout",
     "output_type": "stream",
     "text": [
      "            |   A                                             |\n",
      "            |   g                   L               P         |\n",
      "            |   r       E           i           N   r         |\n",
      "            |   i       d           v   L       u   o         |\n",
      "            |   c       u           e   o       t   t   S     |\n",
      "            |   u       c       H   l   g       r   e   h     |\n",
      "            |   l   C   a       e   i   i       i   c   e     |\n",
      "            |   t   r   t   F   a   h   s       t   t   l   W |\n",
      "            |   u   o   i   o   l   o   t   N   i   i   t   A |\n",
      "            |   r   s   o   o   t   o   i   F   o   o   e   S |\n",
      "            |   e   s   n   d   h   d   c   I   n   n   r   H |\n",
      "------------+-------------------------------------------------+\n",
      "Agriculture |<110>  5   2  18   6  29   4   2   .   1  19   2 |\n",
      "      Cross |   2 <48>  7  12  20   5  17   7   8  37  38  14 |\n",
      "  Education |   2   5<174>  1  11   2   6   2   3  21  25   6 |\n",
      "       Food |  75  36  13<515> 81  62  29  24  56  42  38  49 |\n",
      "     Health |   4  20  12  10<860>  4  23  16  15  63  35  79 |\n",
      " Livelihood |  63  12   7  54  14 <76>  9   6   9  40  25  17 |\n",
      "   Logistic |   3   3   .   3  13   1 <57>  4   .  22  20   2 |\n",
      "        NFI |   1   5   2  25  19   3  20 <64>  1  13  62  25 |\n",
      "  Nutrition |   1   9   4  27  55   2   3   3<181>  5   2   9 |\n",
      " Protection |   1  26  29  15  36  16  12  20   9<779> 47  10 |\n",
      "    Shelter |  18  27   8   7  27   8   5  61   .  57<330> 18 |\n",
      "       WASH |  17   6   3  12  69  16  17  17   1  19  28<302>|\n",
      "------------+-------------------------------------------------+\n",
      "(row = reference; col = test)\n",
      "\n"
     ]
    }
   ],
   "source": [
    "print(classifier.get_confusion_matrix(test_data))"
   ]
  },
  {
   "cell_type": "code",
   "execution_count": 20,
   "metadata": {},
   "outputs": [
    {
     "ename": "ImproperlyConfigured",
     "evalue": "Requested setting DEFAULT_INDEX_TABLESPACE, but settings are not configured. You must either define the environment variable DJANGO_SETTINGS_MODULE or call settings.configure() before accessing settings.",
     "output_type": "error",
     "traceback": [
      "\u001b[0;31m---------------------------------------------------------------------------\u001b[0m",
      "\u001b[0;31mImproperlyConfigured\u001b[0m                      Traceback (most recent call last)",
      "\u001b[0;32m<ipython-input-20-1b63fca7764a>\u001b[0m in \u001b[0;36m<module>\u001b[0;34m()\u001b[0m\n\u001b[0;32m----> 1\u001b[0;31m \u001b[0;32mfrom\u001b[0m \u001b[0mcore\u001b[0m\u001b[0;34m.\u001b[0m\u001b[0mmodels\u001b[0m \u001b[0;32mimport\u001b[0m \u001b[0mClassifierModel\u001b[0m\u001b[0;34m\u001b[0m\u001b[0m\n\u001b[0m\u001b[1;32m      2\u001b[0m \u001b[0;32mfrom\u001b[0m \u001b[0mdjango\u001b[0m\u001b[0;34m.\u001b[0m\u001b[0mconf\u001b[0m \u001b[0;32mimport\u001b[0m \u001b[0msettings\u001b[0m\u001b[0;34m\u001b[0m\u001b[0m\n\u001b[1;32m      3\u001b[0m \u001b[0msettings\u001b[0m\u001b[0;34m.\u001b[0m\u001b[0mconfigure\u001b[0m\u001b[0;34m(\u001b[0m\u001b[0;34m)\u001b[0m\u001b[0;34m\u001b[0m\u001b[0m\n\u001b[1;32m      4\u001b[0m \u001b[0mprint\u001b[0m\u001b[0;34m(\u001b[0m\u001b[0mclassifier\u001b[0m\u001b[0;34m)\u001b[0m\u001b[0;34m\u001b[0m\u001b[0m\n",
      "\u001b[0;32m~/DEEPL/core/models.py\u001b[0m in \u001b[0;36m<module>\u001b[0;34m()\u001b[0m\n\u001b[1;32m      4\u001b[0m \u001b[0;32mfrom\u001b[0m \u001b[0mdjango\u001b[0m\u001b[0;34m.\u001b[0m\u001b[0mutils\u001b[0m \u001b[0;32mimport\u001b[0m \u001b[0mtimezone\u001b[0m\u001b[0;34m\u001b[0m\u001b[0m\n\u001b[1;32m      5\u001b[0m \u001b[0;34m\u001b[0m\u001b[0m\n\u001b[0;32m----> 6\u001b[0;31m \u001b[0;32mclass\u001b[0m \u001b[0mBaseModel\u001b[0m\u001b[0;34m(\u001b[0m\u001b[0mmodels\u001b[0m\u001b[0;34m.\u001b[0m\u001b[0mModel\u001b[0m\u001b[0;34m)\u001b[0m\u001b[0;34m:\u001b[0m\u001b[0;34m\u001b[0m\u001b[0m\n\u001b[0m\u001b[1;32m      7\u001b[0m     \u001b[0;34m\"\"\"BaseModel for all other models\"\"\"\u001b[0m\u001b[0;34m\u001b[0m\u001b[0m\n\u001b[1;32m      8\u001b[0m     \u001b[0midx\u001b[0m \u001b[0;34m=\u001b[0m \u001b[0mmodels\u001b[0m\u001b[0;34m.\u001b[0m\u001b[0mUUIDField\u001b[0m\u001b[0;34m(\u001b[0m\u001b[0munique\u001b[0m\u001b[0;34m=\u001b[0m\u001b[0;32mTrue\u001b[0m\u001b[0;34m,\u001b[0m \u001b[0mdefault\u001b[0m\u001b[0;34m=\u001b[0m\u001b[0muuid\u001b[0m\u001b[0;34m.\u001b[0m\u001b[0muuid4\u001b[0m\u001b[0;34m,\u001b[0m \u001b[0meditable\u001b[0m\u001b[0;34m=\u001b[0m\u001b[0;32mFalse\u001b[0m\u001b[0;34m)\u001b[0m\u001b[0;34m\u001b[0m\u001b[0m\n",
      "\u001b[0;32m~/DEEPL/core/models.py\u001b[0m in \u001b[0;36mBaseModel\u001b[0;34m()\u001b[0m\n\u001b[1;32m      6\u001b[0m \u001b[0;32mclass\u001b[0m \u001b[0mBaseModel\u001b[0m\u001b[0;34m(\u001b[0m\u001b[0mmodels\u001b[0m\u001b[0;34m.\u001b[0m\u001b[0mModel\u001b[0m\u001b[0;34m)\u001b[0m\u001b[0;34m:\u001b[0m\u001b[0;34m\u001b[0m\u001b[0m\n\u001b[1;32m      7\u001b[0m     \u001b[0;34m\"\"\"BaseModel for all other models\"\"\"\u001b[0m\u001b[0;34m\u001b[0m\u001b[0m\n\u001b[0;32m----> 8\u001b[0;31m     \u001b[0midx\u001b[0m \u001b[0;34m=\u001b[0m \u001b[0mmodels\u001b[0m\u001b[0;34m.\u001b[0m\u001b[0mUUIDField\u001b[0m\u001b[0;34m(\u001b[0m\u001b[0munique\u001b[0m\u001b[0;34m=\u001b[0m\u001b[0;32mTrue\u001b[0m\u001b[0;34m,\u001b[0m \u001b[0mdefault\u001b[0m\u001b[0;34m=\u001b[0m\u001b[0muuid\u001b[0m\u001b[0;34m.\u001b[0m\u001b[0muuid4\u001b[0m\u001b[0;34m,\u001b[0m \u001b[0meditable\u001b[0m\u001b[0;34m=\u001b[0m\u001b[0;32mFalse\u001b[0m\u001b[0;34m)\u001b[0m\u001b[0;34m\u001b[0m\u001b[0m\n\u001b[0m\u001b[1;32m      9\u001b[0m     \u001b[0mcreated_on\u001b[0m \u001b[0;34m=\u001b[0m \u001b[0mmodels\u001b[0m\u001b[0;34m.\u001b[0m\u001b[0mDateTimeField\u001b[0m\u001b[0;34m(\u001b[0m\u001b[0meditable\u001b[0m\u001b[0;34m=\u001b[0m\u001b[0;32mFalse\u001b[0m\u001b[0;34m)\u001b[0m\u001b[0;34m\u001b[0m\u001b[0m\n\u001b[1;32m     10\u001b[0m     \u001b[0mmodified_on\u001b[0m \u001b[0;34m=\u001b[0m \u001b[0mmodels\u001b[0m\u001b[0;34m.\u001b[0m\u001b[0mDateTimeField\u001b[0m\u001b[0;34m(\u001b[0m\u001b[0;34m)\u001b[0m\u001b[0;34m\u001b[0m\u001b[0m\n",
      "\u001b[0;32m~/DEEPL/.env/lib/python3.5/site-packages/django/db/models/fields/__init__.py\u001b[0m in \u001b[0;36m__init__\u001b[0;34m(self, verbose_name, **kwargs)\u001b[0m\n\u001b[1;32m   2367\u001b[0m     \u001b[0;32mdef\u001b[0m \u001b[0m__init__\u001b[0m\u001b[0;34m(\u001b[0m\u001b[0mself\u001b[0m\u001b[0;34m,\u001b[0m \u001b[0mverbose_name\u001b[0m\u001b[0;34m=\u001b[0m\u001b[0;32mNone\u001b[0m\u001b[0;34m,\u001b[0m \u001b[0;34m**\u001b[0m\u001b[0mkwargs\u001b[0m\u001b[0;34m)\u001b[0m\u001b[0;34m:\u001b[0m\u001b[0;34m\u001b[0m\u001b[0m\n\u001b[1;32m   2368\u001b[0m         \u001b[0mkwargs\u001b[0m\u001b[0;34m[\u001b[0m\u001b[0;34m'max_length'\u001b[0m\u001b[0;34m]\u001b[0m \u001b[0;34m=\u001b[0m \u001b[0;36m32\u001b[0m\u001b[0;34m\u001b[0m\u001b[0m\n\u001b[0;32m-> 2369\u001b[0;31m         \u001b[0msuper\u001b[0m\u001b[0;34m(\u001b[0m\u001b[0mUUIDField\u001b[0m\u001b[0;34m,\u001b[0m \u001b[0mself\u001b[0m\u001b[0;34m)\u001b[0m\u001b[0;34m.\u001b[0m\u001b[0m__init__\u001b[0m\u001b[0;34m(\u001b[0m\u001b[0mverbose_name\u001b[0m\u001b[0;34m,\u001b[0m \u001b[0;34m**\u001b[0m\u001b[0mkwargs\u001b[0m\u001b[0;34m)\u001b[0m\u001b[0;34m\u001b[0m\u001b[0m\n\u001b[0m\u001b[1;32m   2370\u001b[0m \u001b[0;34m\u001b[0m\u001b[0m\n\u001b[1;32m   2371\u001b[0m     \u001b[0;32mdef\u001b[0m \u001b[0mdeconstruct\u001b[0m\u001b[0;34m(\u001b[0m\u001b[0mself\u001b[0m\u001b[0;34m)\u001b[0m\u001b[0;34m:\u001b[0m\u001b[0;34m\u001b[0m\u001b[0m\n",
      "\u001b[0;32m~/DEEPL/.env/lib/python3.5/site-packages/django/db/models/fields/__init__.py\u001b[0m in \u001b[0;36m__init__\u001b[0;34m(self, verbose_name, name, primary_key, max_length, unique, blank, null, db_index, rel, default, editable, serialize, unique_for_date, unique_for_month, unique_for_year, choices, help_text, db_column, db_tablespace, auto_created, validators, error_messages)\u001b[0m\n\u001b[1;32m    170\u001b[0m         \u001b[0mself\u001b[0m\u001b[0;34m.\u001b[0m\u001b[0mdb_index\u001b[0m \u001b[0;34m=\u001b[0m \u001b[0mdb_index\u001b[0m\u001b[0;34m\u001b[0m\u001b[0m\n\u001b[1;32m    171\u001b[0m         \u001b[0mself\u001b[0m\u001b[0;34m.\u001b[0m\u001b[0mdb_column\u001b[0m \u001b[0;34m=\u001b[0m \u001b[0mdb_column\u001b[0m\u001b[0;34m\u001b[0m\u001b[0m\n\u001b[0;32m--> 172\u001b[0;31m         \u001b[0mself\u001b[0m\u001b[0;34m.\u001b[0m\u001b[0mdb_tablespace\u001b[0m \u001b[0;34m=\u001b[0m \u001b[0mdb_tablespace\u001b[0m \u001b[0;32mor\u001b[0m \u001b[0msettings\u001b[0m\u001b[0;34m.\u001b[0m\u001b[0mDEFAULT_INDEX_TABLESPACE\u001b[0m\u001b[0;34m\u001b[0m\u001b[0m\n\u001b[0m\u001b[1;32m    173\u001b[0m         \u001b[0mself\u001b[0m\u001b[0;34m.\u001b[0m\u001b[0mauto_created\u001b[0m \u001b[0;34m=\u001b[0m \u001b[0mauto_created\u001b[0m\u001b[0;34m\u001b[0m\u001b[0m\n\u001b[1;32m    174\u001b[0m \u001b[0;34m\u001b[0m\u001b[0m\n",
      "\u001b[0;32m~/DEEPL/.env/lib/python3.5/site-packages/django/conf/__init__.py\u001b[0m in \u001b[0;36m__getattr__\u001b[0;34m(self, name)\u001b[0m\n\u001b[1;32m     54\u001b[0m         \"\"\"\n\u001b[1;32m     55\u001b[0m         \u001b[0;32mif\u001b[0m \u001b[0mself\u001b[0m\u001b[0;34m.\u001b[0m\u001b[0m_wrapped\u001b[0m \u001b[0;32mis\u001b[0m \u001b[0mempty\u001b[0m\u001b[0;34m:\u001b[0m\u001b[0;34m\u001b[0m\u001b[0m\n\u001b[0;32m---> 56\u001b[0;31m             \u001b[0mself\u001b[0m\u001b[0;34m.\u001b[0m\u001b[0m_setup\u001b[0m\u001b[0;34m(\u001b[0m\u001b[0mname\u001b[0m\u001b[0;34m)\u001b[0m\u001b[0;34m\u001b[0m\u001b[0m\n\u001b[0m\u001b[1;32m     57\u001b[0m         \u001b[0mval\u001b[0m \u001b[0;34m=\u001b[0m \u001b[0mgetattr\u001b[0m\u001b[0;34m(\u001b[0m\u001b[0mself\u001b[0m\u001b[0;34m.\u001b[0m\u001b[0m_wrapped\u001b[0m\u001b[0;34m,\u001b[0m \u001b[0mname\u001b[0m\u001b[0;34m)\u001b[0m\u001b[0;34m\u001b[0m\u001b[0m\n\u001b[1;32m     58\u001b[0m         \u001b[0mself\u001b[0m\u001b[0;34m.\u001b[0m\u001b[0m__dict__\u001b[0m\u001b[0;34m[\u001b[0m\u001b[0mname\u001b[0m\u001b[0;34m]\u001b[0m \u001b[0;34m=\u001b[0m \u001b[0mval\u001b[0m\u001b[0;34m\u001b[0m\u001b[0m\n",
      "\u001b[0;32m~/DEEPL/.env/lib/python3.5/site-packages/django/conf/__init__.py\u001b[0m in \u001b[0;36m_setup\u001b[0;34m(self, name)\u001b[0m\n\u001b[1;32m     37\u001b[0m                 \u001b[0;34m\"You must either define the environment variable %s \"\u001b[0m\u001b[0;34m\u001b[0m\u001b[0m\n\u001b[1;32m     38\u001b[0m                 \u001b[0;34m\"or call settings.configure() before accessing settings.\"\u001b[0m\u001b[0;34m\u001b[0m\u001b[0m\n\u001b[0;32m---> 39\u001b[0;31m                 % (desc, ENVIRONMENT_VARIABLE))\n\u001b[0m\u001b[1;32m     40\u001b[0m \u001b[0;34m\u001b[0m\u001b[0m\n\u001b[1;32m     41\u001b[0m         \u001b[0mself\u001b[0m\u001b[0;34m.\u001b[0m\u001b[0m_wrapped\u001b[0m \u001b[0;34m=\u001b[0m \u001b[0mSettings\u001b[0m\u001b[0;34m(\u001b[0m\u001b[0msettings_module\u001b[0m\u001b[0;34m)\u001b[0m\u001b[0;34m\u001b[0m\u001b[0m\n",
      "\u001b[0;31mImproperlyConfigured\u001b[0m: Requested setting DEFAULT_INDEX_TABLESPACE, but settings are not configured. You must either define the environment variable DJANGO_SETTINGS_MODULE or call settings.configure() before accessing settings."
     ]
    }
   ],
   "source": [
    "from core.models import ClassifierModel\n",
    "from django.conf import settings\n",
    "settings.configure()\n",
    "print(classifier)"
   ]
  }
 ],
 "metadata": {
  "kernelspec": {
   "display_name": "Python 3",
   "language": "python",
   "name": "python3"
  },
  "language_info": {
   "codemirror_mode": {
    "name": "ipython",
    "version": 3
   },
   "file_extension": ".py",
   "mimetype": "text/x-python",
   "name": "python",
   "nbconvert_exporter": "python",
   "pygments_lexer": "ipython3",
   "version": "3.5.2"
  }
 },
 "nbformat": 4,
 "nbformat_minor": 2
}
