{
 "cells": [
  {
   "cell_type": "code",
   "execution_count": 2,
   "metadata": {},
   "outputs": [],
   "source": [
    "from core.tasks import process_deep_entries_data\n",
    "from core.helpers.common import rm_punc_not_nums, rm_stop_words_txt, translate_to_english_txt, compose\n",
    "from core.classifiers.feature_selector import DocumentFeatureSelector, BigramFeatureSelector\n",
    "from core.classifiers.NaiveBayes_classifier import NaiveBayesClassifier\n",
    "import nltk\n",
    "from nltk.stem.snowball import SnowballStemmer\n",
    "from nltk.stem.porter import PorterStemmer\n",
    "import random\n",
    "import langid\n",
    "   "
   ]
  },
  {
   "cell_type": "code",
   "execution_count": 3,
   "metadata": {},
   "outputs": [
    {
     "name": "stdout",
     "output_type": "stream",
     "text": [
      "PROCESSING DEEP ENTRIES DATA\n",
      "DONE\n",
      "REMOVING PUNC AND STOP WORDS\n",
      "DONE\n",
      "SHUFFLING DATA\n",
      "DONE\n",
      "TAKING OUT TEST/TRAIN DATA\n",
      "length of training data 14175\n",
      "DONE\n",
      "COUNTING TAG FREQUENCIES in TRAIN DATA\n",
      "{'Protection': 2517, 'WASH': 1156, 'Health': 2679, 'Education': 608, 'Cross': 544, 'Agriculture': 478, 'Logistic': 296, 'Shelter': 1309, 'Food': 2473, 'Nutrition': 646, 'Livelihood': 875, 'NFI': 594}\n",
      "DONE\n"
     ]
    }
   ],
   "source": [
    "csv_file_path = '_playground/sample_data/nlp_out.csv'\n",
    "\n",
    "print('PROCESSING DEEP ENTRIES DATA')\n",
    "data = process_deep_entries_data(csv_file_path)\n",
    "print('DONE')\n",
    "\n",
    "print('REMOVING PUNC AND STOP WORDS')\n",
    "stemmer = PorterStemmer()\n",
    "rm_punc_and_stop = compose(\n",
    "    rm_punc_not_nums,\n",
    "    rm_stop_words_txt,\n",
    "    #stemmer.stem # comment this if we don't need stemming\n",
    ")\n",
    "data = [(rm_punc_and_stop(str(ex)), l) for (ex, l) in data if langid.classify(str(ex))[0] == 'en']\n",
    "print('DONE')\n",
    "\n",
    "print('SHUFFLING DATA')\n",
    "random.shuffle(data)\n",
    "print('DONE')\n",
    "\n",
    "data_len = len(data)\n",
    "test_len = int(data_len * 0.4)\n",
    "\n",
    "print('TAKING OUT TEST/TRAIN DATA')\n",
    "train_data = data[test_len:]\n",
    "print(\"length of training data\", len(train_data))\n",
    "test_data = data[:test_len]\n",
    "print('DONE')\n",
    "\n",
    "print('COUNTING TAG FREQUENCIES in TRAIN DATA')\n",
    "d = {}\n",
    "for ex, l in train_data:\n",
    "    d[l] = d.get(l, 0) + 1\n",
    "print(d)\n",
    "print('DONE')\n"
   ]
  },
  {
   "cell_type": "code",
   "execution_count": 5,
   "metadata": {},
   "outputs": [
    {
     "name": "stdout",
     "output_type": "stream",
     "text": [
      "CREATING FEATURE SELECTOR\n",
      "DONE\n",
      "CREATING CLASSIFIER\n",
      "DONE\n",
      "CONFUSION MATRIX\n",
      "            |    A                                                        |\n",
      "            |    g                        L                   P           |\n",
      "            |    r         E              i              N    r           |\n",
      "            |    i         d              v    L         u    o           |\n",
      "            |    c         u              e    o         t    t    S      |\n",
      "            |    u         c         H    l    g         r    e    h      |\n",
      "            |    l    C    a         e    i    i         i    c    e      |\n",
      "            |    t    r    t    F    a    h    s         t    t    l    W |\n",
      "            |    u    o    i    o    l    o    t    N    i    i    t    A |\n",
      "            |    r    s    o    o    t    o    i    F    o    o    e    S |\n",
      "            |    e    s    n    d    h    d    c    I    n    n    r    H |\n",
      "------------+-------------------------------------------------------------+\n",
      "Agriculture |   <.>   .    .    .  324    .    .    .    .    .    .    . |\n",
      "      Cross |    .   <.>   .    .  362    .    .    .    .    .    .    . |\n",
      "  Education |    .    .   <.>   .  373    .    .    .    .    .    .    . |\n",
      "       Food |    .    .    .   <.>1624    .    .    .    .    .    .    . |\n",
      "     Health |    .    .    .    .<1821>   .    .    .    .    .    .    . |\n",
      " Livelihood |    .    .    .    .  583   <.>   .    .    .    .    .    . |\n",
      "   Logistic |    .    .    .    .  196    .   <.>   .    .    .    .    . |\n",
      "        NFI |    .    .    .    .  422    .    .   <.>   .    .    .    . |\n",
      "  Nutrition |    .    .    .    .  442    .    .    .   <.>   .    .    . |\n",
      " Protection |    .    .    .    . 1634    .    .    .    .   <.>   .    . |\n",
      "    Shelter |    .    .    .    .  883    .    .    .    .    .   <.>   . |\n",
      "       WASH |    .    .    .    .  785    .    .    .    .    .    .   <.>|\n",
      "------------+-------------------------------------------------------------+\n",
      "(row = reference; col = test)\n",
      "\n"
     ]
    }
   ],
   "source": [
    "print('CREATING FEATURE SELECTOR')\n",
    "# print(freq_words[:200])\n",
    "# assert False\n",
    "selector = DocumentFeatureSelector.new(corpus=data, top=2000) # use top 2000 words\n",
    "print('DONE')\n",
    "\n",
    "# print('CREATING BIGRAM FEATURE SELECTOR')\n",
    "# selector = BigramFeatureSelector.new(corpus=data, top=2000)\n",
    "# selector = DocumentFeatureSelector.new(corpus=data, top=2000)\n",
    "# print('DONE')\n",
    "\n",
    "print('CREATING CLASSIFIER')\n",
    "classifier = NaiveBayesClassifier.new(selector, rm_punc_and_stop, train_data)\n",
    "print('DONE')\n",
    "\n",
    "#print('ACCURACY', classifier.get_accuracy(test_data))\n",
    "\n",
    "print('CONFUSION MATRIX')\n",
    "print(classifier.get_confusion_matrix(test_data))"
   ]
  }
 ],
 "metadata": {
  "kernelspec": {
   "display_name": "Python 3",
   "language": "python",
   "name": "python3"
  },
  "language_info": {
   "codemirror_mode": {
    "name": "ipython",
    "version": 3
   },
   "file_extension": ".py",
   "mimetype": "text/x-python",
   "name": "python",
   "nbconvert_exporter": "python",
   "pygments_lexer": "ipython3",
   "version": "3.5.2"
  }
 },
 "nbformat": 4,
 "nbformat_minor": 2
}
