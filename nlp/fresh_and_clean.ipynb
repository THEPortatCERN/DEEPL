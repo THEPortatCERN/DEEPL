{
 "cells": [
  {
   "cell_type": "code",
   "execution_count": 1,
   "metadata": {
    "collapsed": true
   },
   "outputs": [],
   "source": [
    "import csv\n",
    "import json\n",
    "\n",
    "import pandas as pd"
   ]
  },
  {
   "cell_type": "code",
   "execution_count": 2,
   "metadata": {
    "collapsed": true
   },
   "outputs": [],
   "source": [
    "df = pd.read_csv('nlp_out.csv', header = 0)\n",
    "\n",
    "#convert json string columns to json\n",
    "df[df.filter(like=\"_j\").columns] = df.filter(like=\"_j\").applymap(lambda x : json.loads(x))\n",
    "\n",
    "#change column names\n",
    "for v in df.filter(like=\"_j\"):\n",
    "    df = df.rename(columns = {v : '_'.join(v.split('_')[:-1])})"
   ]
  },
  {
   "cell_type": "code",
   "execution_count": 3,
   "metadata": {},
   "outputs": [
    {
     "name": "stdout",
     "output_type": "stream",
     "text": [
      "<class 'dict'>\n",
      "<class 'NoneType'>\n",
      "<class 'str'>\n",
      "<class 'str'>\n",
      "<class 'list'>\n",
      "<class 'NoneType'>\n",
      "<class 'list'>\n",
      "<class 'NoneType'>\n",
      "<class 'str'>\n",
      "<class 'str'>\n",
      "<class 'numpy.bool_'>\n",
      "<class 'str'>\n",
      "<class 'numpy.int64'>\n",
      "<class 'str'>\n",
      "<class 'str'>\n"
     ]
    }
   ],
   "source": [
    "#approx check types of a row to ensure json conversion\n",
    "for v in df.iloc[0]:\n",
    "    print(type(v))"
   ]
  },
  {
   "cell_type": "code",
   "execution_count": 4,
   "metadata": {},
   "outputs": [],
   "source": [
    "#help functions\n",
    "def get_all_sectors():\n",
    "    \"\"\"return raw list of sectors\"\"\"\n",
    "    l = []\n",
    "    for v in df[df['twodim'].notnull()][['twodim']].iterrows():\n",
    "        for k in v[1].twodim:\n",
    "            l.append(k['sector'])\n",
    "    \n",
    "    return l\n",
    "    \n",
    "def get_sector_excerpt():\n",
    "    \"\"\"return list of tuples with sector and excerpt\"\"\"\n",
    "    l = []\n",
    "\n",
    "    for v in df[df['twodim'].notnull()][['twodim','excerpt']].iterrows():\n",
    "        for k in v[1].twodim:\n",
    "            l.append((k['sector'], v[1].excerpt))\n",
    "    \n",
    "    return l\n",
    "\n",
    "def get_sub_sectors_excerpt():\n",
    "    \"\"\"return list of tuples with sector, subsectors and excerpt\"\"\"\n",
    "    l = []\n",
    "\n",
    "    for v in df[df['twodim'].notnull()][['twodim','excerpt']].iterrows():\n",
    "        for k in v[1].twodim:\n",
    "            l.append(([k['sector'], k['subsectors']], v[1].excerpt))\n",
    "    \n",
    "    return l"
   ]
  },
  {
   "cell_type": "code",
   "execution_count": 5,
   "metadata": {},
   "outputs": [
    {
     "data": {
      "text/plain": [
       "Agriculture     919\n",
       "Cross          1037\n",
       "Education      1218\n",
       "Food           4813\n",
       "Health         5148\n",
       "Livelihood     1843\n",
       "Logistic        539\n",
       "NFI            1282\n",
       "Nutrition      1288\n",
       "Protection     5020\n",
       "Shelter        2641\n",
       "WASH           2244\n",
       "dtype: int64"
      ]
     },
     "execution_count": 5,
     "metadata": {},
     "output_type": "execute_result"
    }
   ],
   "source": [
    "##numerical checks##\n",
    "\n",
    "#groups of sectors, should match:\n",
    "\n",
    "\"\"\"\n",
    "select name, c from\n",
    "(\n",
    "    select sector_id, count(*) as c from entries_informationattribute i\n",
    "    group by 1\n",
    ")a \n",
    "join entries_sector e\n",
    "on a.sector_id = e.id\n",
    "\"\"\"\n",
    "l = get_all_sectors()\n",
    "pd.Series(l).groupby(l).size()"
   ]
  }
 ],
 "metadata": {
  "kernelspec": {
   "display_name": "Python 3",
   "language": "python",
   "name": "python3"
  },
  "language_info": {
   "codemirror_mode": {
    "name": "ipython",
    "version": 3
   },
   "file_extension": ".py",
   "mimetype": "text/x-python",
   "name": "python",
   "nbconvert_exporter": "python",
   "pygments_lexer": "ipython3",
   "version": "3.6.1"
  }
 },
 "nbformat": 4,
 "nbformat_minor": 2
}
